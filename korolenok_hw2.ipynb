{
 "cells": [
  {
   "cell_type": "markdown",
   "metadata": {},
   "source": [
    "# Алгоритмы интеллектуальной обработки больших объемов данных\n",
    "## Домашнее задание №2: Линейные модели\n"
   ]
  },
  {
   "cell_type": "markdown",
   "metadata": {},
   "source": [
    "###### <hr\\>\n",
    "**Общая информация**\n",
    "\n",
    "**Срок сдачи:** 5 ноября 2019, 06:00 <br\\>\n",
    "**Штраф за опоздание:** -2 балла после 06:00 5 ноября, -4 балла после 06:00 12 ноября, -6 баллов после 06:00 19 ноября  -8 баллов после 06:00 26 ноября.\n",
    "\n",
    "При отправлении ДЗ указывайте фамилию в названии файла Присылать ДЗ необходимо в виде ссылки на свой github репозиторий на почту ml1.sphere@mail.ru с указанием темы в следующем формате:\n",
    "[ML0919, Задание 2] Фамилия Имя.<br\\>\n",
    "\n",
    "Используйте данный Ipython Notebook при оформлении домашнего задания.\n",
    "\n",
    "**Штрафные баллы:**\n",
    "\n",
    "1. Невыполнение PEP8 -1 балл\n",
    "2. Отсутствие фамилии в имени скрипта (скрипт должен называться по аналогии со stroykova_hw2.ipynb) -1 балл\n",
    "3. Все строчки должны быть выполнены. Нужно, чтобы output команды можно было увидеть уже в git'е. В противном случае -1 балл\n",
    "4. При оформлении ДЗ нужно пользоваться данным файлом в качестве шаблона. Не нужно удалять и видоизменять написанный код и текст, если явно не указана такая возможность. В противном случае -1 балл\n",
    "<hr\\>"
   ]
  },
  {
   "cell_type": "code",
   "execution_count": 103,
   "metadata": {},
   "outputs": [],
   "source": [
    "import pandas as pd\n",
    "import numpy as np\n",
    "import matplotlib.pyplot as plt\n",
    "import random\n",
    "\n",
    "%matplotlib inline\n",
    "\n",
    "plt.style.use('ggplot')\n",
    "plt.rcParams['figure.figsize'] = (12,5)"
   ]
  },
  {
   "cell_type": "markdown",
   "metadata": {},
   "source": [
    "Здравствуйте, уважаемые студенты! \n",
    "\n",
    "В этом задании мы будем реализовать линейные модели. Необходимо реализовать линейную и логистическую регрессии с L2 регуляризацией"
   ]
  },
  {
   "cell_type": "markdown",
   "metadata": {},
   "source": [
    "# Теоретическое введение\n",
    "\n"
   ]
  },
  {
   "cell_type": "markdown",
   "metadata": {},
   "source": [
    "Линейная регрессия решает задачу регрессии и оптимизирует функцию потерь MSE \n",
    "\n",
    "$$L(w) =  \\frac{1}{N}\\left[\\sum_i (y_i - a_i) ^ 2 \\right], $$ где $y_i$ $-$ целевая функция,  $a_i = a(x_i) =  \\langle\\,x_i,w\\rangle ,$ $-$ предсказание алгоритма на объекте $x_i$, $w$ $-$ вектор весов (размерности $D$), $x_i$ $-$ вектор признаков (такой же размерности $D$).\n",
    "\n",
    "Не забываем, что здесь и далее  мы считаем, что в $x_i$ есть тождественный вектор единиц, ему соответствует вес $w_0$.\n"
   ]
  },
  {
   "cell_type": "markdown",
   "metadata": {},
   "source": [
    "Логистическая регрессия является линейным классификатором, который оптимизирует так называемый функционал log loss:"
   ]
  },
  {
   "cell_type": "markdown",
   "metadata": {},
   "source": [
    "$$L(w) = - \\frac{1}{N}\\left[\\sum_i y_i \\log a_i + ( 1 - y_i) \\log (1 - a_i) \\right],$$\n",
    "где  $y_i  \\in \\{0,1\\}$ $-$ метка класса, $a_i$ $-$ предсказание алгоритма на объекте $x_i$. Модель пытается предсказать апостериорую вероятность объекта принадлежать к классу \"1\":\n",
    "$$ p(y_i = 1 | x_i) = a(x_i) =  \\sigma( \\langle\\,x_i,w\\rangle ),$$\n",
    "$w$ $-$ вектор весов (размерности $D$), $x_i$ $-$ вектор признаков (такой же размерности $D$).\n",
    "\n",
    "Функция $\\sigma(x)$ $-$ нелинейная функция, пероводящее скалярное произведение объекта на веса в число $\\in (0,1)$ (мы же моделируем вероятность все-таки!)\n",
    "\n",
    "$$\\sigma(x) = \\frac{1}{1 + \\exp(-x)}$$\n",
    "\n",
    "Если внимательно посмотреть на функцию потерь, то можно заметить, что в зависимости от правильного ответа алгоритм штрафуется или функцией $-\\log a_i$, или функцией $-\\log (1 - a_i)$.\n",
    "\n"
   ]
  },
  {
   "cell_type": "markdown",
   "metadata": {},
   "source": [
    "Часто для решения проблем, которые так или иначе связаны с проблемой переобучения, в функционал качества добавляют слагаемое, которое называют ***регуляризацией***. Итоговый функционал для линейной регрессии тогда принимает вид:\n",
    "\n",
    "$$L(w) =  \\frac{1}{N}\\left[\\sum_i (y_i - a_i) ^ 2 \\right] + \\frac{1}{C}R(w) $$\n",
    "\n",
    "Для логистической: \n",
    "$$L(w) = - \\frac{1}{N}\\left[\\sum_i y_i \\log a_i + ( 1 - y_i) \\log (1 - a_i) \\right] +  \\frac{1}{C}R(w)$$\n",
    "\n",
    "Самое понятие регуляризации введено основателем ВМК академиком Тихоновым https://ru.wikipedia.org/wiki/Метод_регуляризации_Тихонова\n",
    "\n",
    "Идейно методика регуляризации заключается в следующем $-$ мы рассматриваем некорректно поставленную задачу (что это такое можно найти в интернете), для того чтобы сузить набор различных вариантов (лучшие из которых будут являться переобучением ) мы вводим дополнительные ограничения на множество искомых решений. На лекции Вы уже рассмотрели два варианта регуляризации.\n",
    "\n",
    "$L1$ регуляризация:\n",
    "$$R(w) = \\sum_{j=1}^{D}|w_j|$$\n",
    "$L2$ регуляризация:\n",
    "$$R(w) =  \\sum_{j=1}^{D}w_j^2$$\n",
    "\n",
    "С их помощью мы ограничиваем модель в  возможности выбора каких угодно весов минимизирующих наш лосс, модель уже не сможет подстроиться под данные как ей угодно. \n",
    "\n",
    "Вам нужно добавить соотвествущую Вашему варианту $L2$ регуляризацию.\n",
    "\n",
    "И так, мы поняли, какую функцию ошибки будем минимизировать, разобрались, как получить предсказания по объекту и обученным весам. Осталось разобраться, как получить оптимальные веса. Для этого нужно выбрать какой-то метод оптимизации.\n",
    "\n"
   ]
  },
  {
   "cell_type": "markdown",
   "metadata": {},
   "source": [
    "Градиентный спуск является самым популярным алгоритмом обучения линейных моделей. В этом задании Вам предложат реализовать стохастический градиентный спуск или  мини-батч градиентный спуск (мини-батч на русский язык довольно сложно перевести, многие переводят это как \"пакетный\", но мне не кажется этот перевод удачным). Далее нам потребуется определение **эпохи**.\n",
    "Эпохой в SGD и MB-GD называется один проход по **всем** объектам в обучающей выборки.\n",
    "* В SGD градиент расчитывается по одному случайному объекту. Сам алгоритм выглядит примерно так:\n",
    "        1) Перемешать выборку\n",
    "        2) Посчитать градиент функции потерь на одном объекте (далее один объект тоже будем называть батчем)\n",
    "        3) Сделать шаг спуска\n",
    "        4) Повторять 2) и 3) пока не пройдет максимальное число эпох.\n",
    "* В Mini Batch SGD - по подвыборке объектов. Сам алгоритм выглядит примерно так::\n",
    "        1) Перемешать выборку, выбрать размер мини-батча (от 1 до размера выборки)\n",
    "        2) Почитать градиент функции потерь по мини-батчу (не забыть поделить на  число объектов в мини-батче)\n",
    "        3) Сделать шаг спуска\n",
    "        4) Повторять 2) и 3) пока не пройдет максимальное число эпох.\n",
    "* Для отладки алгоритма реализуйте возможность  вывода средней ошибки на обучении модели по объектам (мини-батчам). После шага градиентного спуска посчитайте значение ошибки на объекте (или мини-батче), а затем усредните, например, по ста шагам. Если обучение проходит корректно, то мы должны увидеть, что каждые 100 шагов функция потерь уменьшается. \n",
    "* Правило останова - максимальное количество эпох\n",
    "    \n"
   ]
  },
  {
   "cell_type": "markdown",
   "metadata": {},
   "source": [
    "# Теоретические вопросы (2 балла)\n",
    "В этой части Вам будут предложены теоретичские вопросы и задачи по теме. Вы, конечно, можете списать их у своего товарища или найти решение в интернете, но учтите, что они обязательно войдут в теоретический коллоквиум. Лучше разобраться в теме сейчас и успешно ответить на коллоквиуме, чем списать, не разобравшись в материале, и быть терзаемым совестью. \n",
    "\n",
    "\n",
    "Формулы надо оформлять в формате **LaTeX**."
   ]
  },
  {
   "cell_type": "markdown",
   "metadata": {},
   "source": [
    "Задача 1. Градиент для линейной регрессии.\n",
    "* Выпишите формулу обновления весов для линейной регрессии с L2 регуляризацией для мини-батч градиентого спуска размера $n$:\n",
    "\n",
    "$$ w_{new} = w_{old} - ... $$\n",
    "\n",
    " Отнеситесь к этому пункту максимально серьезно, это Вам нужно будет реализовать в задании.\n",
    " \n",
    "Проанализруйте итоговую формулу градиента - как  интуитивно можно  описать, чему равен градиент?"
   ]
  },
  {
   "cell_type": "markdown",
   "metadata": {},
   "source": [
    "***Ваше решение здесь***"
   ]
  },
  {
   "cell_type": "markdown",
   "metadata": {},
   "source": [
    "$$\\omega_{new} = \\omega_{old} - \\alpha\\bigtriangledown_{\\omega}L(\\omega)$$"
   ]
  },
  {
   "cell_type": "markdown",
   "metadata": {},
   "source": [
    "$$\\omega_{new} = \\omega_{old} - 2\\alpha(\\frac{1}{n}\\sum_{i=1}^n(\\langle x_{i}, \\omega_{old}\\rangle-y_{i})x_{i} + \\frac{\\omega_{old}}{C})$$"
   ]
  },
  {
   "cell_type": "markdown",
   "metadata": {},
   "source": [
    "Здесь  $\\alpha\\geqslant{0}$  - длина шага оптимизации. В общем случае она может быть задана как невозрастающая функция $f(k)$ от номера $k$ шага оптимизации."
   ]
  },
  {
   "cell_type": "markdown",
   "metadata": {},
   "source": [
    "Задача 2. Градиент для логистической регрессии.\n",
    "* Выпишите формулу обновления весов для логистической регрессии с L2 регуляризацией  для мини-батч градиентого спуска размера $n$:\n",
    "\n",
    "$$ w_{new} = w_{old} - ... $$\n",
    "\n",
    " Отнеситесь к этому пункту максимально серьезно, это Вам нужно будет реализовать в задании.\n",
    " \n",
    "Проанализруйте итоговую формулу градиента - как  интуитивно можно  описать, чему равен градиент? Как соотносится этот градиент с градиентом, возникающий в задаче линейной регрессии?\n",
    "\n",
    "Подсказка: Вам градиент, которой получается если “в лоб” продифференцировать,  надо немного преобразовать.\n",
    "Надо подставить, что $1 - \\sigma(w,x) $ это  $1 - a(x_i)$, а  $-\\sigma(w,x)$ это $0 - a(x_i)$.  Тогда получится свести к одной красивой формуле с линейной регрессией, которую программировать будет намного проще."
   ]
  },
  {
   "cell_type": "markdown",
   "metadata": {},
   "source": [
    "***Ваше решение здесь***"
   ]
  },
  {
   "cell_type": "markdown",
   "metadata": {},
   "source": [
    "$$\\omega_{new} = \\omega_{old} - \\alpha\\nabla_{\\omega}L(\\omega)$$"
   ]
  },
  {
   "cell_type": "markdown",
   "metadata": {},
   "source": [
    "$$\\omega_{new} = \\omega_{old} - \\alpha(\\frac{1}{nln2}\\sum_{i=1}^n\\frac{((1-y_{i})e^{\\langle x_{i}, \\omega_{old}\\rangle}-y_{i})x_{i}}{e^{\\langle x_{i}, \\omega_{old}\\rangle}+1}+\\frac{2\\omega_{old}}{C})$$"
   ]
  },
  {
   "cell_type": "markdown",
   "metadata": {},
   "source": [
    "$$\\omega_{new} = \\omega_{old} - \\alpha(\\frac{1}{nln2}\\sum_{i=1}^n\\frac{((1-y_{i})-y_{i}e^{-\\langle x_{i}, \\omega_{old}\\rangle})x_{i}}{1+e^{-\\langle x_{i}, \\omega_{old}\\rangle}}+\\frac{2\\omega_{old}}{C})$$"
   ]
  },
  {
   "cell_type": "markdown",
   "metadata": {},
   "source": [
    "$$\\omega_{new} = \\omega_{old} - \\alpha(\\frac{1}{nln2}\\sum_{i=1}^n(\\frac{1}{1+e^{-\\langle x_{i}, \\omega_{old}\\rangle}}-y_{i})x_{i}+\\frac{2\\omega_{old}}{C})$$"
   ]
  },
  {
   "cell_type": "markdown",
   "metadata": {},
   "source": [
    "Как оказалось, общая формула для линейной и логистической регрессий регрессий выглядит так:"
   ]
  },
  {
   "cell_type": "markdown",
   "metadata": {},
   "source": [
    "$$\\omega_{new} = \\omega_{old} - \\alpha(\\frac{1}{n}sum_{i=1}^n(a(x_{i})-y_{i})x_{i}+\\frac{\\omega_{old}}{C})$$"
   ]
  },
  {
   "cell_type": "markdown",
   "metadata": {},
   "source": [
    "$$\\omega_{new} = \\omega_{old} - \\alpha(\\frac{1}{n}\\sum_{i=1}^n(a(x_{i})-y_{i})x_{i}+\\frac{\\omega_{old}}{C})$$\n",
    "С точностью до константных множителей, не влияющих на сходимость вектора весов $\\omega$"
   ]
  },
  {
   "cell_type": "markdown",
   "metadata": {},
   "source": [
    "Задача 3. Точное решение линейной регрессии\n",
    "\n",
    "На лекции было показано, что точное решение линейной регрессии имеет вид $w = (X^TX)^{-1}X^TY $. \n",
    "* Покажите, что это действительно является точкой минимума в случае, если матрица X имеет строк не меньше, чем столбцов и имеет полный ранг. Подсказка: посчитайте Гессиан и покажите, что в этом случае он положительно определен. \n",
    "* Выпишите точное решение для модели с $L2$ регуляризацией. Как L2 регуляризация помогает с точным решением где матрица X имеет линейно зависимые признаки?"
   ]
  },
  {
   "cell_type": "markdown",
   "metadata": {},
   "source": [
    "***Ваше решение здесь***"
   ]
  },
  {
   "cell_type": "markdown",
   "metadata": {},
   "source": [
    "Гессиан функции $f(\\omega)$ имеет вид"
   ]
  },
  {
   "cell_type": "markdown",
   "metadata": {},
   "source": [
    "$$H(f(\\omega)) = \\begin{pmatrix}\\frac{\\partial^{2} f}{\\partial\\omega_{0}^{2}} & \\frac{\\partial^{2} f}{\\partial\\omega_{0}\\partial\\omega_{1}} & \\ldots & \\frac{\\partial^{2} f}{\\partial\\omega_{0}\\partial\\omega_{D}} \\\\ \\frac{\\partial^{2} f}{\\partial\\omega_{1}\\partial\\omega_{0}} & \\frac{\\partial^{2} f}{\\partial\\omega_{1}^{2}} & \\ldots & \\frac{\\partial^{2} f}{\\partial\\omega_{1}\\partial\\omega_{D}} \\\\\\vdots & \\vdots & \\frac{\\partial^{2} f}{\\partial\\omega_{i}\\partial\\omega_{j}} & \\vdots \\\\ \\frac{\\partial^{2} f}{\\partial\\omega_{D}\\partial\\omega_{0}} & \\frac{\\partial^{2} f}{\\partial\\omega_{D}\\partial\\omega_{1}} & \\ldots & \\frac{\\partial^{2} f}{\\partial\\omega_{D}^{2}} \\end{pmatrix} $$"
   ]
  },
  {
   "cell_type": "markdown",
   "metadata": {},
   "source": [
    "$$f(\\omega) = \\frac{1}{n}(\\omega^{T}X^{T}X\\omega - \\omega^{T}X^{T}y-y^{T}X\\omega + y^{T}y)$$"
   ]
  },
  {
   "cell_type": "markdown",
   "metadata": {},
   "source": [
    "Поскольку деление на положительное число n не влияет на нахождение точки минимума функции, опустим множитель $\\frac{1}{n}$"
   ]
  },
  {
   "cell_type": "markdown",
   "metadata": {},
   "source": [
    "Поэтому гессиан $f(\\omega)$ выглядит так:"
   ]
  },
  {
   "cell_type": "markdown",
   "metadata": {},
   "source": [
    "$$H(f(\\omega)) = 2\\begin{pmatrix}x_{0}^{T}x_{0} & x_{0}^{T}x_{1} & \\ldots & x_{0}^{T}x_{D} \\\\ x_{1}^{T}x_{0} & x_{1}^{T}x_{1} & \\ldots & x_{1}^{T}x_{D} \\\\ \\vdots & \\vdots & x_{i}^{T}x_{j} & \\vdots \\\\ x_{D}^{T}x_{0} & x_{D}^{T}x_{1} & \\ldots & x_{D}^{T}x_{D} \\end{pmatrix}$$"
   ]
  },
  {
   "cell_type": "markdown",
   "metadata": {},
   "source": [
    "Это значит, что $H(f(\\omega) = 2X^{T}X$. Тогда существует матрица $B = \\sqrt{2}X$ такая, что $B^{T}B = H(f(\\omega))$. Учитывая невырожденность матрицы $X$ (имеет строк не меньше, чем столбцов и полный ранг), получим, что $H(f(\\omega))$ положительно определена."
   ]
  },
  {
   "cell_type": "markdown",
   "metadata": {},
   "source": [
    "L2 - регуляризация:"
   ]
  },
  {
   "cell_type": "markdown",
   "metadata": {},
   "source": [
    "$$f(\\omega) = \\frac{1}{n}(\\omega^{T}X^{T}X\\omega - \\omega^{T}X^{T}y - y^{T}X\\omega + y^{T}y) + \\frac{1}{C}\\omega\\omega^{T}$$\n",
    "$$\\nabla_{\\omega}f(\\omega) = 2X^{T}X\\omega - 2X^{T}y + \\frac{2}{C}\\omega$$\n",
    "$$\\nabla_{\\omega}f(\\omega) = 0 \\Leftrightarrow \\omega = (X^{T}X + \\frac{1}{C})^{-1}X^{T}y$$"
   ]
  },
  {
   "cell_type": "markdown",
   "metadata": {},
   "source": [
    "Задача 4.  Предсказываем вероятности.\n",
    "\n",
    "Когда говорят о логистической регрессии, произносят фразу, что она \"предсказывает вероятности положительного класса\". Давайте разберемся, что же за этим стоит. Посчитаем математическое ожидание функции потерь и проверим, что предсказание алгоритма, оптимизирующее это мат. ожидание, будет являться вероятностью положительного класса. \n",
    "\n",
    "И так, функция потерь на объекте $x_i$, который имеет метку $y_i \\in \\{0,1\\}$  для предсказания $a(x_i)$ равна:\n",
    "$$L(y_i, b) =-[y_i == 1] \\log a(x_i)  - [y_i == 0] \\log(1 - a(x_i)) $$\n",
    "\n",
    "Где $[]$ означает индикатор $-$ он равен единице, если значение внутри него истинно, иначе он равен нулю. Тогда мат. ожидание при условии конкретного $x_i$  по определение мат. ожидания дискретной случайной величины:\n",
    "$$E(L | x_i) = -p(y_i = 1 |x_i ) \\log a(x_i)  - p(y_i = 0 | x_i) \\log( 1 - a(x_i))$$\n",
    "* Докажите, что значение $a(x_i)$, минимизирующее данное мат. ожидание, в точности равно $p(y_i = 1 |x_i)$, то есть равно вероятности положительного класса.\n",
    "\n",
    "Подсказка: возможно, придется воспользоваться, что  $p(y_i = 1 | x_i) + p(y_i = 0 | x_i) = 1$"
   ]
  },
  {
   "cell_type": "markdown",
   "metadata": {},
   "source": [
    "***Ваше решение здесь***"
   ]
  },
  {
   "cell_type": "markdown",
   "metadata": {},
   "source": [
    "$$dE(L|x_{i}) = \\frac{1}{ln2}(\\frac{-p(y_{i}=1|x_{i})}{a(x_{i})} + \\frac{p(y_{i}=0|x_{i})}{1-a(x_{i})}$$\n",
    "$$\\frac{dE(L|x_{i})}{da(x_{i})} = \\frac{-p(y_{i}=1|x_{i}) + a(x_{i})p(y_{i}=1|x_{i}) + a(x_{i})p(y_{i}=0|x_{i})}{ln2a(x_{i}(1-a(x_{i})))}$$\n",
    "$p(y_{i}=1|x_{i}) + p(y_{i}=0|x_{i}) = 1$, значит, \n",
    "$$\\frac{dE(L|x_{i})}{da(x_{i})} = 0 \\Leftrightarrow a(x_{i}) = p(y_{i}=1|x_{i})$$, причем $a(x_{i}) \\neq 1$, $a(x_{i}) \\neq 0$\n",
    "Это означает, что $a(x_{i}) = p(y_{i}=1|x_{i})$ - точка минимума мат. ожидания."
   ]
  },
  {
   "cell_type": "markdown",
   "metadata": {},
   "source": [
    "Задача 5.  Смысл регуляризации.\n",
    "\n",
    "Нужно ли в L1/L2 регуляризации использовать свободный член $w_0$ (который не умножается ни на какой признак)?\n",
    "\n",
    "Подсказка: подумайте, для чего мы вводим $w_0$"
   ]
  },
  {
   "cell_type": "markdown",
   "metadata": {},
   "source": [
    "***Ваше решение здесь***"
   ]
  },
  {
   "cell_type": "markdown",
   "metadata": {},
   "source": [
    "Да, нужно, "
   ]
  },
  {
   "cell_type": "markdown",
   "metadata": {},
   "source": [
    "#  Реализация линейной модели (5 баллов)"
   ]
  },
  {
   "cell_type": "markdown",
   "metadata": {},
   "source": [
    "## Зачем нужны батчи?\n"
   ]
  },
  {
   "cell_type": "markdown",
   "metadata": {},
   "source": [
    "Как Вы могли заметить из теоретического введения, что в случае SGD, что в случа mini-batch GD,  на каждой итерации обновление весов  происходит только по небольшой части данных (1 пример в случае SGD, batch примеров в случае mini-batch). То есть для каждой итерации нам *** не нужна вся выборка***. Мы можем просто итерироваться по выборке, беря батч нужного размера (далее 1 объект тоже будем называть батчом).\n",
    "\n",
    "Легко заметить, что в этом случае нам не нужно загружать все данные в оперативную память, достаточно просто считать батч с диска, обновить веса, считать диска другой батч и так далее. В целях упрощения домашней работы, прямо с диска  мы считывать не будем, будем работать с обычными numpy array. \n",
    "\n",
    "\n",
    "\n"
   ]
  },
  {
   "cell_type": "markdown",
   "metadata": {},
   "source": [
    "## Немножко про генераторы в Python\n",
    "\n"
   ]
  },
  {
   "cell_type": "markdown",
   "metadata": {},
   "source": [
    "Идея считывания данных кусками удачно ложится на так называемые ***генераторы*** из языка Python. В данной работе Вам предлагается не только разобраться с логистической регрессией, но  и познакомиться с таким важным элементом языка.  При желании Вы можете убрать весь код, связанный с генераторами, и реализовать логистическую регрессию и без них, ***штрафоваться это никак не будет***. Главное, чтобы сама модель была реализована правильно, и все пункты были выполнены. \n",
    "\n",
    "Подробнее можно почитать вот тут https://anandology.com/python-practice-book/iterators.html\n"
   ]
  },
  {
   "cell_type": "markdown",
   "metadata": {},
   "source": [
    "К генератору стоит относиться просто как к функции, которая порождает не один объект, а целую последовательность объектов. Новое значение из последовательности генерируется с помощью ключевого слова ***yield***. Ниже Вы можете насладиться  генератором чисел Фибоначчи."
   ]
  },
  {
   "cell_type": "code",
   "execution_count": 104,
   "metadata": {},
   "outputs": [],
   "source": [
    "def fib(max_iter=4):\n",
    "    a, b = 0, 1\n",
    "    iter_num = 0\n",
    "    while 1:\n",
    "        yield a\n",
    "        a, b = b, a + b\n",
    "        iter_num += 1\n",
    "        if iter_num == max_iter:\n",
    "            break"
   ]
  },
  {
   "cell_type": "markdown",
   "metadata": {},
   "source": [
    "Вот так можно сгенерировать последовательность Фибоначчи. \n",
    "\n",
    "Заметьте, что к генераторам можно применять некоторые стандартные функции из Python, например enumerate."
   ]
  },
  {
   "cell_type": "code",
   "execution_count": 105,
   "metadata": {},
   "outputs": [
    {
     "name": "stdout",
     "output_type": "stream",
     "text": [
      "Fib num: 0 fib values: 0\n",
      "Fib num: 1 fib values: 1\n",
      "Fib num: 2 fib values: 1\n",
      "Fib num: 3 fib values: 2\n"
     ]
    }
   ],
   "source": [
    "new_generator = fib()\n",
    "for j, fib_val in enumerate(new_generator):\n",
    "    print (\"Fib num: \" + str(j) + \" fib values: \" + str(fib_val))"
   ]
  },
  {
   "cell_type": "markdown",
   "metadata": {},
   "source": [
    "Пересоздавая объект, можно сколько угодно раз генерировать заново последовательность. "
   ]
  },
  {
   "cell_type": "code",
   "execution_count": 106,
   "metadata": {},
   "outputs": [
    {
     "name": "stdout",
     "output_type": "stream",
     "text": [
      "Fib num: 0 fib values: 0\n",
      "Fib num: 1 fib values: 1\n",
      "Fib num: 2 fib values: 1\n",
      "Fib num: 3 fib values: 2\n",
      "Fib num: 0 fib values: 0\n",
      "Fib num: 1 fib values: 1\n",
      "Fib num: 2 fib values: 1\n",
      "Fib num: 3 fib values: 2\n",
      "Fib num: 0 fib values: 0\n",
      "Fib num: 1 fib values: 1\n",
      "Fib num: 2 fib values: 1\n",
      "Fib num: 3 fib values: 2\n"
     ]
    }
   ],
   "source": [
    "for i in range(0, 3):\n",
    "    new_generator = fib()\n",
    "    for j, fib_val in enumerate(new_generator):\n",
    "        print (\"Fib num: \" + str(j) + \" fib values: \" + str(fib_val))"
   ]
  },
  {
   "cell_type": "markdown",
   "metadata": {},
   "source": [
    "А вот так уже нельзя."
   ]
  },
  {
   "cell_type": "code",
   "execution_count": 107,
   "metadata": {},
   "outputs": [
    {
     "name": "stdout",
     "output_type": "stream",
     "text": [
      "Fib num: 0 fib values: 0\n",
      "Fib num: 1 fib values: 1\n",
      "Fib num: 2 fib values: 1\n",
      "Fib num: 3 fib values: 2\n"
     ]
    }
   ],
   "source": [
    "new_generator = fib()\n",
    "for i in range(0, 3):\n",
    "    for j, fib_val in enumerate(new_generator):\n",
    "        print (\"Fib num: \" + str(j) + \" fib values: \" + str(fib_val))"
   ]
  },
  {
   "cell_type": "markdown",
   "metadata": {},
   "source": [
    "Концепция крайне удобная для обучения  моделей $-$ у Вас есть некий источник данных, который Вам выдает их кусками, и Вам совершенно все равно откуда он их берет. Под ним может скрывать как массив в оперативной памяти, как файл на жестком диске, так и SQL база данных. Вы сами данные никуда не сохраняете, оперативную память экономите."
   ]
  },
  {
   "cell_type": "markdown",
   "metadata": {},
   "source": [
    "Если Вам понравилась идея с генераторами, то Вы можете реализовать свой, используя прототип batch_generator. В нем Вам нужно выдавать батчи признаков и ответов для каждой новой итерации спуска. Если не понравилась идея, то можете реализовывать SGD или mini-batch GD без генераторов."
   ]
  },
  {
   "cell_type": "code",
   "execution_count": 108,
   "metadata": {},
   "outputs": [],
   "source": [
    "def batch_generator(X, y, shuffle=True, batch_size=1):\n",
    "    \"\"\"\n",
    "    Гератор новых батчей для обучения\n",
    "    X          - матрица объекты-признаки\n",
    "    y_batch    - вектор ответов\n",
    "    shuffle    - нужно ли случайно перемешивать выборку\n",
    "    batch_size - размер батча ( 1 это SGD, > 1 mini-batch GD)\n",
    "    Генерирует подвыборку для итерации спуска (X_batch, y_batch)\n",
    "    \"\"\"\n",
    "\n",
    "    X = np.array(X)\n",
    "    y = np.array(y)\n",
    "    if shuffle:\n",
    "        available = np.array(range(y.size))\n",
    "        while available.size > batch_size:\n",
    "            indices = np.random.choice(np.arange(available.size), \n",
    "                                       size=batch_size, replace=False)\n",
    "            current = available[indices]\n",
    "            available = np.delete(available, indices)\n",
    "            yield (X[current], y[current])\n",
    "        yield (X[available], y[available])\n",
    "    else :\n",
    "        start = 0\n",
    "        end = batch_size\n",
    "        while y.size > end:\n",
    "            yield (X[start:end], y[start:end])\n",
    "            start += batch_size\n",
    "            end += batch_size\n",
    "        yield (X[start:], y[start:])\n",
    "\n",
    "# Теперь можно сделать генератор по данным ()\n",
    "#my_batch_generator = batch_generator(X, y, shuffle=True, batch_size=1)"
   ]
  },
  {
   "cell_type": "code",
   "execution_count": 176,
   "metadata": {},
   "outputs": [],
   "source": [
    "#%%pycodestyle\n",
    "\n",
    "def sigmoid(x):\n",
    "    \"\"\"\n",
    "    Вычисляем значение сигмоида.\n",
    "    X - выход линейной модели\n",
    "    \"\"\"\n",
    "    \n",
    "    try:\n",
    "        sigm_value_x = 1 / (1 + np.e ** (-x))\n",
    "        return sigm_value_x\n",
    "    except OwerflowError:\n",
    "        return 0.0\n",
    "    \n",
    "def my_log2(x):\n",
    "    if x == 0.0:\n",
    "        return -(2e+30)\n",
    "    return np.log2(x)\n",
    "\n",
    "def check(x):\n",
    "    return all(x < 2e+30) and all(x > -2e+30)\n",
    "\n",
    "def add_first_feature(X):\n",
    "    res = np.array(X)\n",
    "    to_add = np.array([1] * res.shape[0])\n",
    "    to_add = to_add.reshape(-1, 1)\n",
    "    return np.hstack((to_add, X))\n",
    "\n",
    "\n",
    "from sklearn.base import BaseEstimator, ClassifierMixin\n",
    "\n",
    "class MySGDClassifier(BaseEstimator, ClassifierMixin):\n",
    "    \n",
    "    def __init__(self, batch_generator, batch_size=1, C=1, alpha=0.01, max_epoch=10, model_type='lin_reg', border=0.5):\n",
    "        \"\"\"\n",
    "        batch_generator -- функция генератор, которой будем создавать батчи\n",
    "        C - коэф. регуляризации\n",
    "        alpha - скорость спуска\n",
    "        max_epoch - максимальное количество эпох\n",
    "        model_type - тим модели, lin_reg или log_reg\n",
    "        border - порог, при достижении которого объект относится к классу 1 (для log_reg)\n",
    "        batch_size - размер батча\n",
    "        \"\"\"\n",
    "        \n",
    "        self.C = C\n",
    "        self.alpha = alpha\n",
    "        self.max_epoch = max_epoch\n",
    "        self.batch_generator = batch_generator\n",
    "        self.errors_log = {'iter' : [], 'loss' : []}  \n",
    "        self.model_type = model_type\n",
    "        self.border = border\n",
    "        self.batch_size = batch_size\n",
    "        \n",
    "    def calc_loss(self, X_batch, y_batch):\n",
    "        \"\"\"\n",
    "        Считаем функцию потерь по батчу \n",
    "        X_batch - матрица объекты-признаки по батчу\n",
    "        y_batch - вектор ответов по батчу\n",
    "        Не забудте тип модели (линейная или логистическая регрессия)!\n",
    "        \"\"\"\n",
    "        \n",
    "        X_batch = add_first_feature(X_batch)\n",
    "        y_batch = np.array(y_batch)\n",
    "        n = X_batch.shape[0]\n",
    "        \n",
    "        if self.model_type is 'lin_reg':\n",
    "            diff = np.matmul(X_batch, self.weights) - y_batch\n",
    "            loss = np.dot(diff, diff)\n",
    "        elif self.model_type is 'log_reg':\n",
    "            loss = np.array(list(map(sigmoid, np.matmul(X_batch, self.weights))))\n",
    "            l1 = loss[np.where(y_batch == 1)]\n",
    "            l1 = np.array(list(map(my_log2, l1)))\n",
    "            l0 = -loss[np.where(y_batch == 0)] + 1\n",
    "            l0 = np.array(list(map(my_log2, l0)))\n",
    "            loss = -(np.sum(l1) + np.sum(l0))\n",
    "        loss  = loss / n + np.dot(self.weights, self.weights) / self.C\n",
    "        return loss\n",
    "    \n",
    "    def calc_loss_grad(self, X_batch, y_batch):\n",
    "        \"\"\"\n",
    "        Считаем  градиент функции потерь по батчу (то что Вы вывели в задании 1)\n",
    "        X_batch - матрица объекты-признаки по батчу\n",
    "        y_batch - вектор ответов по батчу\n",
    "        Не забудте тип модели (линейная или логистическая регрессия)!\n",
    "        \"\"\"\n",
    "        loss_grad = np.zeros(len(self.weights))\n",
    "        X_batch = add_first_feature(X_batch)\n",
    "        y_batch = np.array(y_batch)\n",
    "        n = X_batch.shape[0]\n",
    "        w = self.weights\n",
    "        \n",
    "        if self.model_type is 'lin_reg':\n",
    "            loss_grad += np.dot(np.matmul(X_batch, w) - y_batch, X_batch)\n",
    "        elif self.model_type is 'log_reg':\n",
    "            loss_grad += np.dot(sigmoid(np.matmul(X_batch, w)) - y_batch, X_batch)\n",
    "            loss_grad /= np.log(2)\n",
    "            \n",
    "        loss_grad /= n\n",
    "        loss_grad += 2 * w / self.C\n",
    "        return loss_grad\n",
    "    \n",
    "    def update_weights(self, new_grad):\n",
    "        \"\"\"\n",
    "        Обновляем вектор весов\n",
    "        new_grad - градиент по батчу\n",
    "        \"\"\"\n",
    "        self.weights -= self.alpha * new_grad\n",
    "    \n",
    "    def fit(self, X, y):\n",
    "        '''\n",
    "        Обучение модели\n",
    "        X - матрица объекты-признаки\n",
    "        y - вектор ответов\n",
    "        '''\n",
    "        \n",
    "        X = np.array(X)\n",
    "        y = np.array(y)\n",
    "        np.random.seed(0)\n",
    "        self.weights = np.random.sample(X.shape[1] + 1)\n",
    "        self.weights = self.weights.astype(float)\n",
    "        for n in range(0, self.max_epoch):\n",
    "            new_epoch_generator = self.batch_generator(X, y, shuffle=True, batch_size=self.batch_size)\n",
    "            for batch_num, new_batch in enumerate(new_epoch_generator):\n",
    "                X_batch = new_batch[0]\n",
    "                y_batch = new_batch[1]\n",
    "                batch_grad = self.calc_loss_grad(X_batch, y_batch)\n",
    "                batch_loss = self.calc_loss(X_batch, y_batch)\n",
    "                self.update_weights(batch_grad)\n",
    "                # Подумайте в каком месте стоит посчитать ошибку для отладки модели\n",
    "                # До градиентного шага или после\n",
    "                self.errors_log['iter'].append(batch_num)\n",
    "                self.errors_log['loss'].append(batch_loss)\n",
    "        batch_loss = self.calc_loss(X, y)\n",
    "        return self\n",
    "        \n",
    "    def predict(self, X):\n",
    "        '''\n",
    "        Предсказание класса\n",
    "        X - матрица объекты-признаки\n",
    "        Не забудте тип модели (линейная или логистическая регрессия)!\n",
    "        '''\n",
    "        X_copy = add_first_feature(X)\n",
    "        X_copy = np.array(list(map(lambda x: x if check(x) is True else 0, X_copy)))\n",
    "        if self.model_type is 'lin_reg':\n",
    "            y_hat = np.dot(X_copy, self.weights)\n",
    "        elif self.model_type is 'log_reg':\n",
    "            y_hat = X_copy * self.weights\n",
    "            y_hat = y_hat.sum(axis=1)\n",
    "            y_hat = y_hat.ravel()\n",
    "            y_hat = np.array(list(map(lambda x: 1 if x > self.border else 0, y_hat)))\n",
    "        return y_hat"
   ]
  },
  {
   "cell_type": "markdown",
   "metadata": {},
   "source": [
    "Запустите обе регрессии на синтетических данных. \n",
    "\n",
    "\n",
    "Выведите полученные веса и нарисуйте разделяющую границу между классами (используйте только первых два веса для первых двух признаков X[:,0], X[:,1] для отображения в 2d пространство ).  "
   ]
  },
  {
   "cell_type": "code",
   "execution_count": 162,
   "metadata": {},
   "outputs": [],
   "source": [
    "def plot_decision_boundary(clf):\n",
    "    x = np.linspace(-10, 10)\n",
    "    y = - (clf.weights[0] + x * clf.weights[1]) / clf.weights[2]\n",
    "    line, = plt.plot(x, y, '-b', label='mySGD')"
   ]
  },
  {
   "cell_type": "code",
   "execution_count": 163,
   "metadata": {},
   "outputs": [
    {
     "name": "stdout",
     "output_type": "stream",
     "text": [
      "[-0.08130203  0.23897376 -0.13565709]\n"
     ]
    },
    {
     "data": {
      "image/png": "[encoded data removed]",
      "text/plain": [
       "<Figure size 864x360 with 1 Axes>"
      ]
     },
     "metadata": {},
     "output_type": "display_data"
    }
   ],
   "source": [
    "from sklearn.linear_model import SGDClassifier\n",
    "\n",
    "np.random.seed(0)\n",
    "\n",
    "C1 = np.array([[0., -0.8], [1.5, 0.8]])\n",
    "C2 = np.array([[1., -0.7], [2., 0.7]])\n",
    "gauss1 = np.dot(np.random.randn(200, 2) + np.array([5, 3]), C1)\n",
    "gauss2 = np.dot(np.random.randn(200, 2) + np.array([1.5, 0]), C2)\n",
    "\n",
    "X = np.vstack([gauss1, gauss2])\n",
    "y = np.r_[np.ones(200), np.zeros(200)]\n",
    "\n",
    "my_clf = MySGDClassifier(batch_generator, C=1, model_type='log_reg', alpha=0.05, border=0.5)\n",
    "my_clf.fit(X, y)\n",
    "sclearn_clf = SGDClassifier(loss='log')\n",
    "sclearn_clf.fit(X, y)\n",
    "\n",
    "sclearn_x = np.linspace(-10, 10)\n",
    "sclearn_y = - ((sclearn_clf.coef_[0][0]) * sclearn_x) / sclearn_clf.coef_[0][1]\n",
    "\n",
    "line1 = plot_decision_boundary(my_clf)\n",
    "line2, = plt.plot(sclearn_x, sclearn_y, '-r', label='sklearn')\n",
    "print(my_clf.weights)\n",
    "\n",
    "plt.ylim(-10, 10)\n",
    "plt.xlim(-10, 10)\n",
    "\n",
    "plt.scatter(X[:,0], X[:,1], c=y)\n",
    "plt.show()"
   ]
  },
  {
   "cell_type": "code",
   "execution_count": 164,
   "metadata": {
    "scrolled": true
   },
   "outputs": [
    {
     "name": "stdout",
     "output_type": "stream",
     "text": [
      "[ 0.03261517  0.1590284  -0.11764658]\n"
     ]
    },
    {
     "data": {
      "image/png": "[encoded data removed]",
      "text/plain": [
       "<Figure size 864x360 with 1 Axes>"
      ]
     },
     "metadata": {},
     "output_type": "display_data"
    }
   ],
   "source": [
    "from sklearn.linear_model import LinearRegression\n",
    "\n",
    "np.random.seed(0)\n",
    "\n",
    "C1 = np.array([[0., -0.8], [1.5, 0.8]])\n",
    "C2 = np.array([[1., -0.7], [2., 0.7]])\n",
    "gauss1 = np.dot(np.random.randn(200, 2) + np.array([5, 3]), C1)\n",
    "gauss2 = np.dot(np.random.randn(200, 2) + np.array([1.5, 0]), C2)\n",
    "\n",
    "X = np.vstack([gauss1, gauss2])\n",
    "y = np.r_[np.ones(200), np.zeros(200)]\n",
    "\n",
    "my_clf = MySGDClassifier(batch_generator, C=1, model_type='lin_reg', alpha=0.05, border=0.5)\n",
    "my_clf.fit(X, y)\n",
    "lin_clf = LinearRegression()\n",
    "lin_clf.fit(X, y)\n",
    "\n",
    "lin_x = np.linspace(-10, 10)\n",
    "lin_y = - ((lin_clf.coef_[0]) * lin_x) / lin_clf.coef_[1]\n",
    "\n",
    "line1 = plot_decision_boundary(my_clf)\n",
    "line2, = plt.plot(lin_x, lin_y, '-r', label='sklearn')\n",
    "print(my_clf.weights)\n",
    "\n",
    "plt.ylim(-10, 10)\n",
    "plt.xlim(-10, 10)\n",
    "\n",
    "plt.scatter(X[:,0], X[:,1], c=y)\n",
    "plt.show()"
   ]
  },
  {
   "cell_type": "markdown",
   "metadata": {},
   "source": [
    "Далее будем анализировать Ваш алгоритм. \n",
    "Для этих заданий используйте датасет ниже."
   ]
  },
  {
   "cell_type": "code",
   "execution_count": 139,
   "metadata": {},
   "outputs": [],
   "source": [
    "from sklearn.datasets import make_classification"
   ]
  },
  {
   "cell_type": "code",
   "execution_count": 140,
   "metadata": {},
   "outputs": [],
   "source": [
    "X, y = make_classification(n_samples=100000, n_features=10, \n",
    "                           n_informative=4, n_redundant=0, \n",
    "                           random_state=123, class_sep=1.0,\n",
    "                           n_clusters_per_class=1)"
   ]
  },
  {
   "cell_type": "markdown",
   "metadata": {},
   "source": [
    "Покажите сходимости обеих регрессией на этом датасете: изобразите график  функции потерь, усредненной по $N$ шагам градиентого спуска, для разных `alpha` (размеров шага). Разные `alpha` расположите на одном графике. \n",
    "\n",
    "$N$ можно брать 10, 50, 100 и т.д. "
   ]
  },
  {
   "cell_type": "code",
   "execution_count": 141,
   "metadata": {},
   "outputs": [
    {
     "name": "stderr",
     "output_type": "stream",
     "text": [
      "/home/alex/miniconda3/envs/sphere-py37/lib/python3.7/site-packages/ipykernel_launcher.py:10: RuntimeWarning: overflow encountered in power\n",
      "  # Remove the CWD from sys.path while we load stuff.\n",
      "/home/alex/miniconda3/envs/sphere-py37/lib/python3.7/site-packages/ipykernel_launcher.py:10: RuntimeWarning: overflow encountered in double_scalars\n",
      "  # Remove the CWD from sys.path while we load stuff.\n"
     ]
    },
    {
     "data": {
      "image/png": "[encoded data removed]",
      "text/plain": [
       "<Figure size 864x360 with 1 Axes>"
      ]
     },
     "metadata": {},
     "output_type": "display_data"
    }
   ],
   "source": [
    "alpha_arr = [0.01, 0.05, 0.15, 0.25, 0.5, 1.0]\n",
    "N_arr = [10, 50, 100, 500, 1000, 5000, 10000]\n",
    "lines = []\n",
    "n = y.size\n",
    "for alpha in alpha_arr:\n",
    "    clf = MySGDClassifier(batch_generator, batch_size=n//20, model_type='log_reg', alpha=alpha)\n",
    "    clf.fit(X, y)\n",
    "    mean_loss = []\n",
    "    for N in N_arr:\n",
    "        mean_loss.append(np.mean(clf.errors_log['loss'][:N]))\n",
    "    line, = plt.plot(N_arr, mean_loss, label=str(alpha))\n",
    "    lines.append(line)\n",
    "plt.xlim(0, 1000)\n",
    "\n",
    "plt.legend(handles=lines)\n",
    "plt.show()"
   ]
  },
  {
   "cell_type": "code",
   "execution_count": 142,
   "metadata": {},
   "outputs": [
    {
     "data": {
      "image/png": "[encoded data removed]",
      "text/plain": [
       "<Figure size 864x360 with 1 Axes>"
      ]
     },
     "metadata": {},
     "output_type": "display_data"
    }
   ],
   "source": [
    "lines = []\n",
    "for alpha in alpha_arr:\n",
    "    clf = MySGDClassifier(batch_generator, batch_size=n//20, model_type='lin_reg', alpha=alpha)\n",
    "    clf.fit(X, y)\n",
    "    mean_loss = []\n",
    "    for N in N_arr:\n",
    "        mean_loss.append(np.mean(clf.errors_log['loss'][:N]))\n",
    "    line, = plt.plot(N_arr, mean_loss, label=str(alpha))\n",
    "    lines.append(line)\n",
    "plt.xlim(0, 1000)\n",
    "plt.xlim(0, 500)\n",
    "plt.legend(handles=lines)\n",
    "plt.show()"
   ]
  },
  {
   "cell_type": "markdown",
   "metadata": {},
   "source": [
    "Что Вы можете сказать про сходимость метода при различных `alpha`? Какое значение стоит выбирать для лучшей сходимости?"
   ]
  },
  {
   "cell_type": "markdown",
   "metadata": {},
   "source": [
    "Изобразите график среднего значения весов для обеих регрессий в зависимости от коеф. регуляризации С из `np.logspace(3, -3, 10)` "
   ]
  },
  {
   "cell_type": "code",
   "execution_count": 143,
   "metadata": {},
   "outputs": [
    {
     "name": "stderr",
     "output_type": "stream",
     "text": [
      "/home/alex/miniconda3/envs/sphere-py37/lib/python3.7/site-packages/ipykernel_launcher.py:10: RuntimeWarning: overflow encountered in power\n",
      "  # Remove the CWD from sys.path while we load stuff.\n",
      "/home/alex/miniconda3/envs/sphere-py37/lib/python3.7/site-packages/ipykernel_launcher.py:10: RuntimeWarning: overflow encountered in double_scalars\n",
      "  # Remove the CWD from sys.path while we load stuff.\n",
      "/home/alex/miniconda3/envs/sphere-py37/lib/python3.7/site-packages/ipykernel_launcher.py:73: RuntimeWarning: overflow encountered in double_scalars\n"
     ]
    },
    {
     "data": {
      "image/png": "[encoded data removed]",
      "text/plain": [
       "<Figure size 864x360 with 1 Axes>"
      ]
     },
     "metadata": {},
     "output_type": "display_data"
    }
   ],
   "source": [
    "mean_weight_lin = []\n",
    "mean_weight_log = []\n",
    "C_arr = np.logspace(3, -3, 10)\n",
    "for C in C_arr:\n",
    "    clf = MySGDClassifier(batch_generator, batch_size=n//20, \n",
    "                          C=C, model_type='log_reg')\n",
    "    clf.fit(X, y)\n",
    "    mean_weight_log.append(np.mean(clf.weights))\n",
    "plt.plot(C_arr, mean_weight_log)\n",
    "plt.xlim(0, 100)\n",
    "plt.ylim(0, 100)\n",
    "plt.show()"
   ]
  },
  {
   "cell_type": "code",
   "execution_count": 144,
   "metadata": {},
   "outputs": [
    {
     "name": "stderr",
     "output_type": "stream",
     "text": [
      "/home/alex/miniconda3/envs/sphere-py37/lib/python3.7/site-packages/ipykernel_launcher.py:73: RuntimeWarning: overflow encountered in double_scalars\n"
     ]
    },
    {
     "data": {
      "image/png": "[encoded data removed]",
      "text/plain": [
       "<Figure size 864x360 with 1 Axes>"
      ]
     },
     "metadata": {},
     "output_type": "display_data"
    }
   ],
   "source": [
    "mean_weight_lin = []\n",
    "mean_weight_log = []\n",
    "for C in C_arr:\n",
    "    clf = MySGDClassifier(batch_generator, batch_size=n//20, \n",
    "                          C=C, model_type='lin_reg')\n",
    "    clf.fit(X, y)\n",
    "    mean_weight_lin.append(np.mean(clf.weights))\n",
    "plt.plot(C_arr, mean_weight_lin)\n",
    "plt.xlim(0, 100)\n",
    "plt.ylim(0, 100)\n",
    "plt.show()"
   ]
  },
  {
   "cell_type": "markdown",
   "metadata": {},
   "source": [
    "Довольны ли Вы, насколько сильно уменьшились Ваши веса? "
   ]
  },
  {
   "cell_type": "markdown",
   "metadata": {},
   "source": [
    "# Боевое применение (3  балла)"
   ]
  },
  {
   "cell_type": "markdown",
   "metadata": {},
   "source": [
    "Давайте применим модель на итоговом проекте! Датасет сделаем точно таким же образом, как было показано в project_overview.ipynb\n",
    "\n",
    "Применим обе регрессии, подберем для них параметры и сравним качество. Может быть Вы еще одновременно с решением домашней работы подрастете на лидерборде!"
   ]
  },
  {
   "cell_type": "code",
   "execution_count": 145,
   "metadata": {},
   "outputs": [
    {
     "name": "stdout",
     "output_type": "stream",
     "text": [
      "28026\n"
     ]
    }
   ],
   "source": [
    "doc_to_title = {}\n",
    "with open('docs_titles.tsv') as f:\n",
    "    for num_line, line in enumerate(f):\n",
    "        if num_line == 0:\n",
    "            continue\n",
    "        data = line.strip().split('\\t', 1)\n",
    "        doc_id = int(data[0])\n",
    "        if len(data) == 1:\n",
    "            title = ''\n",
    "        else:\n",
    "            title = data[1]\n",
    "        doc_to_title[doc_id] = title\n",
    "print (len(doc_to_title))\n"
   ]
  },
  {
   "cell_type": "code",
   "execution_count": 146,
   "metadata": {},
   "outputs": [],
   "source": [
    "import pandas as pd\n",
    "train_data = pd.read_csv('train_groups.csv')\n",
    "traingroups_titledata = {}\n",
    "for i in range(len(train_data)):\n",
    "    new_doc = train_data.iloc[i]\n",
    "    doc_group = new_doc['group_id']\n",
    "    doc_id = new_doc['doc_id']\n",
    "    target = new_doc['target']\n",
    "    title = doc_to_title[doc_id]\n",
    "    if doc_group not in traingroups_titledata:\n",
    "        traingroups_titledata[doc_group] = []\n",
    "    traingroups_titledata[doc_group].append((doc_id, title, target))"
   ]
  },
  {
   "cell_type": "code",
   "execution_count": 147,
   "metadata": {},
   "outputs": [
    {
     "name": "stdout",
     "output_type": "stream",
     "text": [
      "(11690, 15) (11690,) (11690,)\n"
     ]
    }
   ],
   "source": [
    "import numpy as np\n",
    "y_train = []\n",
    "X_train = []\n",
    "groups_train = []\n",
    "for new_group in traingroups_titledata:\n",
    "    docs = traingroups_titledata[new_group]\n",
    "    for k, (doc_id, title, target_id) in enumerate(docs):\n",
    "        y_train.append(target_id)\n",
    "        groups_train.append(new_group)\n",
    "        all_dist = []\n",
    "        words = set(title.strip().split())\n",
    "        for j in range(0, len(docs)):\n",
    "            if k == j:\n",
    "                continue\n",
    "            doc_id_j, title_j, target_j = docs[j]\n",
    "            words_j = set(title_j.strip().split())\n",
    "            all_dist.append(len(words.intersection(words_j)))\n",
    "        X_train.append(sorted(all_dist, reverse=True)[0:15]    )\n",
    "X_train = np.array(X_train)\n",
    "y_train = np.array(y_train)\n",
    "groups_train = np.array(groups_train)\n",
    "print (X_train.shape, y_train.shape, groups_train.shape)"
   ]
  },
  {
   "cell_type": "markdown",
   "metadata": {},
   "source": [
    "Подберите размер батча для обучения. Линейная модель не должна учиться дольше нескольких минут. \n",
    "\n",
    "Не забывайте использовать скейлер!"
   ]
  },
  {
   "cell_type": "code",
   "execution_count": 148,
   "metadata": {},
   "outputs": [],
   "source": [
    "from sklearn.metrics import f1_score\n",
    "from sklearn.linear_model import LinearRegression\n",
    "from sklearn.preprocessing import StandardScaler"
   ]
  },
  {
   "cell_type": "code",
   "execution_count": 149,
   "metadata": {},
   "outputs": [],
   "source": [
    "st = StandardScaler()\n",
    "X = st.fit_transform(X_train, y_train)"
   ]
  },
  {
   "cell_type": "code",
   "execution_count": 150,
   "metadata": {},
   "outputs": [
    {
     "data": {
      "image/png": "[encoded data removed]",
      "text/plain": [
       "<Figure size 864x360 with 1 Axes>"
      ]
     },
     "metadata": {},
     "output_type": "display_data"
    }
   ],
   "source": [
    "batch_arr = [5, 10, 50, 100, 250, 500, 1000, 5000]\n",
    "lin_reg_loss = []\n",
    "log_reg_loss = []\n",
    "for batch in batch_arr:\n",
    "    clf = MySGDClassifier(batch_generator,\n",
    "                             model_type='log_reg',\n",
    "                             batch_size=batch).fit(X, y_train)\n",
    "    log_reg_loss.append(clf.errors_log['loss'][-1])\n",
    "    clf = MySGDClassifier(batch_generator,\n",
    "                             model_type='lin_reg',\n",
    "                             batch_size=batch).fit(X, y_train)\n",
    "    lin_reg_loss.append(clf.errors_log['loss'][-1])\n",
    "line1, = plt.plot(batch_arr, log_reg_loss, label='log_reg')\n",
    "line2, = plt.plot(batch_arr, lin_reg_loss, label='lin_reg')\n",
    "lines = [line1, line2]\n",
    "plt.legend(handles=lines)\n",
    "plt.xlim(0, 1000)\n",
    "plt.ylim(0, 10)\n",
    "plt.show()"
   ]
  },
  {
   "cell_type": "markdown",
   "metadata": {},
   "source": [
    "Разбейте данные на обучение и валидацию. Подберите параметры C, alpha, max_epoch, model_type на валидации (Вы же помните, как правильно в этой задаче делать валидацию?)"
   ]
  },
  {
   "cell_type": "code",
   "execution_count": 152,
   "metadata": {},
   "outputs": [
    {
     "name": "stdout",
     "output_type": "stream",
     "text": [
      "done for set 0.01 0.1 10 \n",
      "            by log_reg, score = 0.072460728355703\n"
     ]
    },
    {
     "name": "stderr",
     "output_type": "stream",
     "text": [
      "/home/alex/miniconda3/envs/sphere-py37/lib/python3.7/site-packages/sklearn/metrics/classification.py:1437: UndefinedMetricWarning: F-score is ill-defined and being set to 0.0 due to no predicted samples.\n",
      "  'precision', 'predicted', average, warn_for)\n"
     ]
    },
    {
     "name": "stdout",
     "output_type": "stream",
     "text": [
      "done for set 0.01 0.1 10\n",
      "            by lin_reg, score = 0.0018382352941176473\n",
      "done for set 0.01 0.1 20 \n",
      "            by log_reg, score = 0.06647230710190921\n",
      "done for set 0.01 0.1 20\n",
      "            by lin_reg, score = 0.0023312588390167954\n",
      "done for set 0.01 0.1 50 \n",
      "            by log_reg, score = 0.04850679798033473\n",
      "done for set 0.01 0.1 50\n",
      "            by lin_reg, score = 0.002323225884136192\n",
      "done for set 0.01 0.1 100 \n",
      "            by log_reg, score = 0.07732158782328456\n",
      "done for set 0.01 0.1 100\n",
      "            by lin_reg, score = 0.004589787722317843\n",
      "done for set 0.01 0.5 10 \n",
      "            by log_reg, score = 0.4721361382847095\n",
      "done for set 0.01 0.5 10\n",
      "            by lin_reg, score = 0.11982909459171327\n",
      "done for set 0.01 0.5 20 \n",
      "            by log_reg, score = 0.46508793261580056\n",
      "done for set 0.01 0.5 20\n",
      "            by lin_reg, score = 0.12274490867090633\n",
      "done for set 0.01 0.5 50 \n",
      "            by log_reg, score = 0.46932594894912943\n",
      "done for set 0.01 0.5 50\n",
      "            by lin_reg, score = 0.10631544892642476\n",
      "done for set 0.01 0.5 100 \n",
      "            by log_reg, score = 0.47119661210862934\n",
      "done for set 0.01 0.5 100\n",
      "            by lin_reg, score = 0.14873733273968068\n",
      "done for set 0.01 1 10 \n",
      "            by log_reg, score = 0.5160533859482322\n",
      "done for set 0.01 1 10\n",
      "            by lin_reg, score = 0.2431860821052112\n",
      "done for set 0.01 1 20 \n",
      "            by log_reg, score = 0.5118869046396802\n",
      "done for set 0.01 1 20\n",
      "            by lin_reg, score = 0.25737834344286886\n",
      "done for set 0.01 1 50 \n",
      "            by log_reg, score = 0.5140038438575824\n",
      "done for set 0.01 1 50\n",
      "            by lin_reg, score = 0.2212935638334801\n",
      "done for set 0.01 1 100 \n",
      "            by log_reg, score = 0.5145819643759797\n",
      "done for set 0.01 1 100\n",
      "            by lin_reg, score = 0.27087232108501186\n",
      "done for set 0.01 3 10 \n",
      "            by log_reg, score = 0.5248877163051174\n",
      "done for set 0.01 3 10\n",
      "            by lin_reg, score = 0.3803528083706886\n",
      "done for set 0.01 3 20 \n",
      "            by log_reg, score = 0.5258637877685634\n",
      "done for set 0.01 3 20\n",
      "            by lin_reg, score = 0.3914802333907013\n",
      "done for set 0.01 3 50 \n",
      "            by log_reg, score = 0.5271698546777114\n",
      "done for set 0.01 3 50\n",
      "            by lin_reg, score = 0.360809594491691\n",
      "done for set 0.01 3 100 \n",
      "            by log_reg, score = 0.5252349652211848\n",
      "done for set 0.01 3 100\n",
      "            by lin_reg, score = 0.39631205920134893\n",
      "done for set 0.01 10 10 \n",
      "            by log_reg, score = 0.4999693899928872\n",
      "done for set 0.01 10 10\n",
      "            by lin_reg, score = 0.4671095709749234\n",
      "done for set 0.01 10 20 \n",
      "            by log_reg, score = 0.4917521367932505\n",
      "done for set 0.01 10 20\n",
      "            by lin_reg, score = 0.46884170401155245\n",
      "done for set 0.01 10 50 \n",
      "            by log_reg, score = 0.49804184143941366\n",
      "done for set 0.01 10 50\n",
      "            by lin_reg, score = 0.44662907828701126\n",
      "done for set 0.01 10 100 \n",
      "            by log_reg, score = 0.4981899832595628\n",
      "done for set 0.01 10 100\n",
      "            by lin_reg, score = 0.47152366546147234\n",
      "done for set 0.01 25 10 \n",
      "            by log_reg, score = 0.48505793916424517\n",
      "done for set 0.01 25 10\n",
      "            by lin_reg, score = 0.48818075490817187\n",
      "done for set 0.01 25 20 \n",
      "            by log_reg, score = 0.46588709700091185\n",
      "done for set 0.01 25 20\n",
      "            by lin_reg, score = 0.49262303527658985\n",
      "done for set 0.01 25 50 \n",
      "            by log_reg, score = 0.470249655096985\n",
      "done for set 0.01 25 50\n",
      "            by lin_reg, score = 0.4775571096500208\n",
      "done for set 0.01 25 100 \n",
      "            by log_reg, score = 0.46727715349450394\n",
      "done for set 0.01 25 100\n",
      "            by lin_reg, score = 0.49908952891363473\n",
      "done for set 0.01 50 10 \n",
      "            by log_reg, score = 0.48561197655056193\n",
      "done for set 0.01 50 10\n",
      "            by lin_reg, score = 0.493986580682352\n",
      "done for set 0.01 50 20 \n",
      "            by log_reg, score = 0.4607487394912451\n",
      "done for set 0.01 50 20\n",
      "            by lin_reg, score = 0.4977229905397384\n",
      "done for set 0.01 50 50 \n",
      "            by log_reg, score = 0.455449974684594\n",
      "done for set 0.01 50 50\n",
      "            by lin_reg, score = 0.4852325278135042\n",
      "done for set 0.01 50 100 \n",
      "            by log_reg, score = 0.4553150471940106\n",
      "done for set 0.01 50 100\n",
      "            by lin_reg, score = 0.5061333614457005\n",
      "done for set 0.05 0.1 10 \n",
      "            by log_reg, score = 0.09410143354359735\n",
      "done for set 0.05 0.1 10\n",
      "            by lin_reg, score = 0.0029870318359180533\n",
      "done for set 0.05 0.1 20 \n",
      "            by log_reg, score = 0.07902430576441435\n",
      "done for set 0.05 0.1 20\n",
      "            by lin_reg, score = 0.0005910165484633571\n",
      "done for set 0.05 0.1 50 \n",
      "            by log_reg, score = 0.051088250237948156\n",
      "done for set 0.05 0.1 50\n",
      "            by lin_reg, score = 0.007929764939110734\n",
      "done for set 0.05 0.1 100 \n",
      "            by log_reg, score = 0.05212566776926313\n",
      "done for set 0.05 0.1 100\n",
      "            by lin_reg, score = 0.01568627450980392\n",
      "done for set 0.05 0.5 10 \n",
      "            by log_reg, score = 0.4721790723869585\n",
      "done for set 0.05 0.5 10\n",
      "            by lin_reg, score = 0.13775440965633592\n",
      "done for set 0.05 0.5 20 \n",
      "            by log_reg, score = 0.4734223373477486\n",
      "done for set 0.05 0.5 20\n",
      "            by lin_reg, score = 0.09293981378586143\n",
      "done for set 0.05 0.5 50 \n",
      "            by log_reg, score = 0.45804266935660215\n",
      "done for set 0.05 0.5 50\n",
      "            by lin_reg, score = 0.09235337891438157\n",
      "done for set 0.05 0.5 100 \n",
      "            by log_reg, score = 0.4879127042414713\n",
      "done for set 0.05 0.5 100\n",
      "            by lin_reg, score = 0.12193478384736652\n",
      "done for set 0.05 1 10 \n",
      "            by log_reg, score = 0.516430827182247\n",
      "done for set 0.05 1 10\n",
      "            by lin_reg, score = 0.23204656629869028\n",
      "done for set 0.05 1 20 \n",
      "            by log_reg, score = 0.5169106286819923\n",
      "done for set 0.05 1 20\n",
      "            by lin_reg, score = 0.21446883631120175\n",
      "done for set 0.05 1 50 \n",
      "            by log_reg, score = 0.5024389997898419\n",
      "done for set 0.05 1 50\n",
      "            by lin_reg, score = 0.17497151583776913\n",
      "done for set 0.05 1 100 \n",
      "            by log_reg, score = 0.5252734694406215\n",
      "done for set 0.05 1 100\n",
      "            by lin_reg, score = 0.250411179544544\n",
      "done for set 0.05 3 10 \n",
      "            by log_reg, score = 0.527142521825935\n",
      "done for set 0.05 3 10\n",
      "            by lin_reg, score = 0.36497876124943157\n",
      "done for set 0.05 3 20 \n",
      "            by log_reg, score = 0.521260291746024\n",
      "done for set 0.05 3 20\n",
      "            by lin_reg, score = 0.3661028546908221\n",
      "done for set 0.05 3 50 \n",
      "            by log_reg, score = 0.5166942000574432\n",
      "done for set 0.05 3 50\n",
      "            by lin_reg, score = 0.2848650463736117\n",
      "done for set 0.05 3 100 \n",
      "            by log_reg, score = 0.5339093824649772\n",
      "done for set 0.05 3 100\n",
      "            by lin_reg, score = 0.3882763994890152\n",
      "done for set 0.05 10 10 \n",
      "            by log_reg, score = 0.4921989072386224\n",
      "done for set 0.05 10 10\n",
      "            by lin_reg, score = 0.44936581455154223\n",
      "done for set 0.05 10 20 \n",
      "            by log_reg, score = 0.49249070545260265\n",
      "done for set 0.05 10 20\n",
      "            by lin_reg, score = 0.4551865569395532\n",
      "done for set 0.05 10 50 \n",
      "            by log_reg, score = 0.48817588289980546\n",
      "done for set 0.05 10 50\n",
      "            by lin_reg, score = 0.3886177168310982\n",
      "done for set 0.05 10 100 \n",
      "            by log_reg, score = 0.5026762928850599\n",
      "done for set 0.05 10 100\n",
      "            by lin_reg, score = 0.47664069107185386\n",
      "done for set 0.05 25 10 \n",
      "            by log_reg, score = 0.4671253510217835\n",
      "done for set 0.05 25 10\n",
      "            by lin_reg, score = 0.4749381310652534\n",
      "done for set 0.05 25 20 \n",
      "            by log_reg, score = 0.46258493991732536\n",
      "done for set 0.05 25 20\n",
      "            by lin_reg, score = 0.48922868687662674\n",
      "done for set 0.05 25 50 \n",
      "            by log_reg, score = 0.4635541321418688\n",
      "done for set 0.05 25 50\n",
      "            by lin_reg, score = 0.4124492508029915\n",
      "done for set 0.05 25 100 \n",
      "            by log_reg, score = 0.47736681584581486\n",
      "done for set 0.05 25 100\n",
      "            by lin_reg, score = 0.5058721831475267\n",
      "done for set 0.05 50 10 \n",
      "            by log_reg, score = 0.4571561530380491\n",
      "done for set 0.05 50 10\n",
      "            by lin_reg, score = 0.4891880555279422\n",
      "done for set 0.05 50 20 \n",
      "            by log_reg, score = 0.4523478875841957\n",
      "done for set 0.05 50 20\n",
      "            by lin_reg, score = 0.4970486227781172\n",
      "done for set 0.05 50 50 \n",
      "            by log_reg, score = 0.4500180917109569\n"
     ]
    },
    {
     "name": "stdout",
     "output_type": "stream",
     "text": [
      "done for set 0.05 50 50\n",
      "            by lin_reg, score = 0.420859193690875\n",
      "done for set 0.05 50 100 \n",
      "            by log_reg, score = 0.46406955151268786\n",
      "done for set 0.05 50 100\n",
      "            by lin_reg, score = 0.5131717391146017\n"
     ]
    },
    {
     "name": "stderr",
     "output_type": "stream",
     "text": [
      "/home/alex/miniconda3/envs/sphere-py37/lib/python3.7/site-packages/ipykernel_launcher.py:10: RuntimeWarning: overflow encountered in power\n",
      "  # Remove the CWD from sys.path while we load stuff.\n",
      "/home/alex/miniconda3/envs/sphere-py37/lib/python3.7/site-packages/ipykernel_launcher.py:10: RuntimeWarning: overflow encountered in double_scalars\n",
      "  # Remove the CWD from sys.path while we load stuff.\n",
      "/home/alex/miniconda3/envs/sphere-py37/lib/python3.7/site-packages/ipykernel_launcher.py:73: RuntimeWarning: overflow encountered in double_scalars\n"
     ]
    },
    {
     "name": "stdout",
     "output_type": "stream",
     "text": [
      "done for set 0.15 0.1 10 \n",
      "            by log_reg, score = 0.6108544375920612\n"
     ]
    },
    {
     "name": "stderr",
     "output_type": "stream",
     "text": [
      "/home/alex/miniconda3/envs/sphere-py37/lib/python3.7/site-packages/ipykernel_launcher.py:90: RuntimeWarning: invalid value encountered in matmul\n",
      "/home/alex/miniconda3/envs/sphere-py37/lib/python3.7/site-packages/ipykernel_launcher.py:64: RuntimeWarning: invalid value encountered in matmul\n",
      "/home/alex/miniconda3/envs/sphere-py37/lib/python3.7/site-packages/ipykernel_launcher.py:37: RuntimeWarning: invalid value encountered in greater_equal\n"
     ]
    },
    {
     "name": "stdout",
     "output_type": "stream",
     "text": [
      "done for set 0.15 0.1 10\n",
      "            by lin_reg, score = 0.0\n"
     ]
    },
    {
     "name": "stderr",
     "output_type": "stream",
     "text": [
      "/home/alex/miniconda3/envs/sphere-py37/lib/python3.7/site-packages/ipykernel_launcher.py:92: RuntimeWarning: overflow encountered in matmul\n",
      "/home/alex/miniconda3/envs/sphere-py37/lib/python3.7/site-packages/ipykernel_launcher.py:96: RuntimeWarning: overflow encountered in true_divide\n",
      "/home/alex/miniconda3/envs/sphere-py37/lib/python3.7/site-packages/ipykernel_launcher.py:67: RuntimeWarning: overflow encountered in matmul\n",
      "/home/alex/miniconda3/envs/sphere-py37/lib/python3.7/site-packages/ipykernel_launcher.py:92: RuntimeWarning: invalid value encountered in matmul\n",
      "/home/alex/miniconda3/envs/sphere-py37/lib/python3.7/site-packages/ipykernel_launcher.py:67: RuntimeWarning: invalid value encountered in matmul\n"
     ]
    },
    {
     "name": "stdout",
     "output_type": "stream",
     "text": [
      "done for set 0.15 0.1 20 \n",
      "            by log_reg, score = 0.0\n",
      "done for set 0.15 0.1 20\n",
      "            by lin_reg, score = 0.0\n",
      "done for set 0.15 0.1 50 \n",
      "            by log_reg, score = 0.0\n",
      "done for set 0.15 0.1 50\n",
      "            by lin_reg, score = 0.0\n",
      "done for set 0.15 0.1 100 \n",
      "            by log_reg, score = 0.0\n"
     ]
    },
    {
     "name": "stderr",
     "output_type": "stream",
     "text": [
      "/home/alex/miniconda3/envs/sphere-py37/lib/python3.7/site-packages/ipykernel_launcher.py:104: RuntimeWarning: invalid value encountered in subtract\n"
     ]
    },
    {
     "name": "stdout",
     "output_type": "stream",
     "text": [
      "done for set 0.15 0.1 100\n",
      "            by lin_reg, score = 0.0\n",
      "done for set 0.15 0.5 10 \n",
      "            by log_reg, score = 0.47023292897458197\n",
      "done for set 0.15 0.5 10\n",
      "            by lin_reg, score = 0.6147025641631498\n",
      "done for set 0.15 0.5 20 \n",
      "            by log_reg, score = 0.4482145880107978\n",
      "done for set 0.15 0.5 20\n",
      "            by lin_reg, score = 0.0\n",
      "done for set 0.15 0.5 50 \n",
      "            by log_reg, score = 0.46310613689472674\n",
      "done for set 0.15 0.5 50\n",
      "            by lin_reg, score = 0.0\n",
      "done for set 0.15 0.5 100 \n",
      "            by log_reg, score = 0.46563194903857075\n",
      "done for set 0.15 0.5 100\n",
      "            by lin_reg, score = 0.0\n",
      "done for set 0.15 1 10 \n",
      "            by log_reg, score = 0.5148175837367366\n",
      "done for set 0.15 1 10\n",
      "            by lin_reg, score = 0.614907976082837\n",
      "done for set 0.15 1 20 \n",
      "            by log_reg, score = 0.5154656398716716\n",
      "done for set 0.15 1 20\n",
      "            by lin_reg, score = 0.6151374308297076\n",
      "done for set 0.15 1 50 \n",
      "            by log_reg, score = 0.5003155471749738\n",
      "done for set 0.15 1 50\n",
      "            by lin_reg, score = 0.0\n",
      "done for set 0.15 1 100 \n",
      "            by log_reg, score = 0.5214591173667955\n",
      "done for set 0.15 1 100\n",
      "            by lin_reg, score = 0.0\n",
      "done for set 0.15 3 10 \n",
      "            by log_reg, score = 0.5239262988682812\n",
      "done for set 0.15 3 10\n",
      "            by lin_reg, score = 0.6158802926495491\n",
      "done for set 0.15 3 20 \n",
      "            by log_reg, score = 0.5285366982403207\n",
      "done for set 0.15 3 20\n",
      "            by lin_reg, score = 0.4761428726204009\n",
      "done for set 0.15 3 50 \n",
      "            by log_reg, score = 0.5144749803213938\n",
      "done for set 0.15 3 50\n",
      "            by lin_reg, score = 0.32529634888146974\n",
      "done for set 0.15 3 100 \n",
      "            by log_reg, score = 0.5331355634711549\n",
      "done for set 0.15 3 100\n",
      "            by lin_reg, score = 0.6170795617254484\n",
      "done for set 0.15 10 10 \n",
      "            by log_reg, score = 0.49813944681616634\n",
      "done for set 0.15 10 10\n",
      "            by lin_reg, score = 0.404144349443821\n",
      "done for set 0.15 10 20 \n",
      "            by log_reg, score = 0.5056764881262267\n",
      "done for set 0.15 10 20\n",
      "            by lin_reg, score = 0.33022232834961684\n",
      "done for set 0.15 10 50 \n",
      "            by log_reg, score = 0.48005460011619444\n",
      "done for set 0.15 10 50\n",
      "            by lin_reg, score = 0.3135440067232422\n",
      "done for set 0.15 10 100 \n",
      "            by log_reg, score = 0.5081751873213117\n",
      "done for set 0.15 10 100\n",
      "            by lin_reg, score = 0.33135712364378184\n",
      "done for set 0.15 25 10 \n",
      "            by log_reg, score = 0.4691969116834335\n",
      "done for set 0.15 25 10\n",
      "            by lin_reg, score = 0.43713898067543716\n",
      "done for set 0.15 25 20 \n",
      "            by log_reg, score = 0.4728607215566583\n",
      "done for set 0.15 25 20\n",
      "            by lin_reg, score = 0.4164410112468802\n",
      "done for set 0.15 25 50 \n",
      "            by log_reg, score = 0.45515481337998703\n",
      "done for set 0.15 25 50\n",
      "            by lin_reg, score = 0.45393573985586794\n",
      "done for set 0.15 25 100 \n",
      "            by log_reg, score = 0.48624807945054543\n",
      "done for set 0.15 25 100\n",
      "            by lin_reg, score = 0.5740383889637896\n",
      "done for set 0.15 50 10 \n",
      "            by log_reg, score = 0.45701180022525895\n",
      "done for set 0.15 50 10\n",
      "            by lin_reg, score = 0.5806362015010448\n",
      "done for set 0.15 50 20 \n",
      "            by log_reg, score = 0.4639262285764225\n",
      "done for set 0.15 50 20\n",
      "            by lin_reg, score = 0.4140507407598508\n",
      "done for set 0.15 50 50 \n",
      "            by log_reg, score = 0.4383839456973264\n",
      "done for set 0.15 50 50\n",
      "            by lin_reg, score = 0.453136121442608\n",
      "done for set 0.15 50 100 \n",
      "            by log_reg, score = 0.47552935225271886\n",
      "done for set 0.15 50 100\n",
      "            by lin_reg, score = 0.5345229664391715\n",
      "done for set 0.25 0.1 10 \n",
      "            by log_reg, score = 0.0\n",
      "done for set 0.25 0.1 10\n",
      "            by lin_reg, score = 0.0\n",
      "done for set 0.25 0.1 20 \n",
      "            by log_reg, score = 0.0\n",
      "done for set 0.25 0.1 20\n",
      "            by lin_reg, score = 0.0\n",
      "done for set 0.25 0.1 50 \n",
      "            by log_reg, score = 0.0\n",
      "done for set 0.25 0.1 50\n",
      "            by lin_reg, score = 0.0\n",
      "done for set 0.25 0.1 100 \n",
      "            by log_reg, score = 0.0\n",
      "done for set 0.25 0.1 100\n",
      "            by lin_reg, score = 0.0\n",
      "done for set 0.25 0.5 10 \n",
      "            by log_reg, score = 0.3577549434119344\n",
      "done for set 0.25 0.5 10\n",
      "            by lin_reg, score = 0.0\n",
      "done for set 0.25 0.5 20 \n",
      "            by log_reg, score = 0.42109787894680667\n",
      "done for set 0.25 0.5 20\n",
      "            by lin_reg, score = 0.0\n",
      "done for set 0.25 0.5 50 \n",
      "            by log_reg, score = 0.36324773917471403\n",
      "done for set 0.25 0.5 50\n",
      "            by lin_reg, score = 0.0\n",
      "done for set 0.25 0.5 100 \n",
      "            by log_reg, score = 0.48883072656421617\n",
      "done for set 0.25 0.5 100\n",
      "            by lin_reg, score = 0.0\n",
      "done for set 0.25 1 10 \n",
      "            by log_reg, score = 0.5140920505883769\n",
      "done for set 0.25 1 10\n",
      "            by lin_reg, score = 0.0\n",
      "done for set 0.25 1 20 \n",
      "            by log_reg, score = 0.4964893026476555\n",
      "done for set 0.25 1 20\n",
      "            by lin_reg, score = 0.0\n",
      "done for set 0.25 1 50 \n",
      "            by log_reg, score = 0.5070551192855004\n",
      "done for set 0.25 1 50\n",
      "            by lin_reg, score = 0.0\n",
      "done for set 0.25 1 100 \n",
      "            by log_reg, score = 0.5083182859587477\n",
      "done for set 0.25 1 100\n",
      "            by lin_reg, score = 0.0\n",
      "done for set 0.25 3 10 \n",
      "            by log_reg, score = 0.5197482798478508\n",
      "done for set 0.25 3 10\n",
      "            by lin_reg, score = 0.0\n",
      "done for set 0.25 3 20 \n",
      "            by log_reg, score = 0.5239162230781864\n",
      "done for set 0.25 3 20\n",
      "            by lin_reg, score = 0.0\n",
      "done for set 0.25 3 50 \n",
      "            by log_reg, score = 0.5208004242590214\n",
      "done for set 0.25 3 50\n",
      "            by lin_reg, score = 0.0\n",
      "done for set 0.25 3 100 \n",
      "            by log_reg, score = 0.528590758652216\n",
      "done for set 0.25 3 100\n",
      "            by lin_reg, score = 0.0\n",
      "done for set 0.25 10 10 \n",
      "            by log_reg, score = 0.494990190079772\n",
      "done for set 0.25 10 10\n",
      "            by lin_reg, score = 0.6148681909382189\n",
      "done for set 0.25 10 20 \n",
      "            by log_reg, score = 0.5043691937336189\n",
      "done for set 0.25 10 20\n",
      "            by lin_reg, score = 0.0\n",
      "done for set 0.25 10 50 \n",
      "            by log_reg, score = 0.482752919495518\n",
      "done for set 0.25 10 50\n",
      "            by lin_reg, score = 0.0\n",
      "done for set 0.25 10 100 \n",
      "            by log_reg, score = 0.5002242040242874\n",
      "done for set 0.25 10 100\n",
      "            by lin_reg, score = 0.0\n",
      "done for set 0.25 25 10 \n",
      "            by log_reg, score = 0.47334083462618715\n",
      "done for set 0.25 25 10\n",
      "            by lin_reg, score = 0.6148681909382189\n",
      "done for set 0.25 25 20 \n",
      "            by log_reg, score = 0.47653886289361447\n",
      "done for set 0.25 25 20\n",
      "            by lin_reg, score = 0.0\n",
      "done for set 0.25 25 50 \n",
      "            by log_reg, score = 0.45925864113292764\n",
      "done for set 0.25 25 50\n",
      "            by lin_reg, score = 0.0\n",
      "done for set 0.25 25 100 \n",
      "            by log_reg, score = 0.4805723107149868\n",
      "done for set 0.25 25 100\n",
      "            by lin_reg, score = 0.0\n",
      "done for set 0.25 50 10 \n",
      "            by log_reg, score = 0.45955657637785635\n",
      "done for set 0.25 50 10\n",
      "            by lin_reg, score = 0.6148681909382189\n",
      "done for set 0.25 50 20 \n",
      "            by log_reg, score = 0.4648580905072938\n",
      "done for set 0.25 50 20\n",
      "            by lin_reg, score = 0.0\n",
      "done for set 0.25 50 50 \n",
      "            by log_reg, score = 0.44255338925404225\n",
      "done for set 0.25 50 50\n",
      "            by lin_reg, score = 0.0\n",
      "done for set 0.25 50 100 \n",
      "            by log_reg, score = 0.47133028272336247\n",
      "done for set 0.25 50 100\n",
      "            by lin_reg, score = 0.0\n",
      "done for set 0.5 0.1 10 \n",
      "            by log_reg, score = 0.0\n",
      "done for set 0.5 0.1 10\n",
      "            by lin_reg, score = 0.0\n",
      "done for set 0.5 0.1 20 \n",
      "            by log_reg, score = 0.0\n",
      "done for set 0.5 0.1 20\n",
      "            by lin_reg, score = 0.0\n",
      "done for set 0.5 0.1 50 \n",
      "            by log_reg, score = 0.0\n",
      "done for set 0.5 0.1 50\n",
      "            by lin_reg, score = 0.0\n",
      "done for set 0.5 0.1 100 \n",
      "            by log_reg, score = 0.0\n",
      "done for set 0.5 0.1 100\n",
      "            by lin_reg, score = 0.0\n",
      "done for set 0.5 0.5 10 \n",
      "            by log_reg, score = 0.6152592918354556\n",
      "done for set 0.5 0.5 10\n",
      "            by lin_reg, score = 0.0\n",
      "done for set 0.5 0.5 20 \n",
      "            by log_reg, score = 0.614937173008249\n",
      "done for set 0.5 0.5 20\n",
      "            by lin_reg, score = 0.0\n"
     ]
    },
    {
     "name": "stdout",
     "output_type": "stream",
     "text": [
      "done for set 0.5 0.5 50 \n",
      "            by log_reg, score = 0.6151635986162783\n",
      "done for set 0.5 0.5 50\n",
      "            by lin_reg, score = 0.0\n",
      "done for set 0.5 0.5 100 \n",
      "            by log_reg, score = 0.6151899402445601\n",
      "done for set 0.5 0.5 100\n",
      "            by lin_reg, score = 0.0\n",
      "done for set 0.5 1 10 \n",
      "            by log_reg, score = 0.6155287435188481\n",
      "done for set 0.5 1 10\n",
      "            by lin_reg, score = 0.0\n",
      "done for set 0.5 1 20 \n",
      "            by log_reg, score = 0.6134797733876817\n",
      "done for set 0.5 1 20\n",
      "            by lin_reg, score = 0.0\n",
      "done for set 0.5 1 50 \n",
      "            by log_reg, score = 0.6143486432120632\n",
      "done for set 0.5 1 50\n",
      "            by lin_reg, score = 0.0\n",
      "done for set 0.5 1 100 \n",
      "            by log_reg, score = 0.6149350309904668\n",
      "done for set 0.5 1 100\n",
      "            by lin_reg, score = 0.0\n",
      "done for set 0.5 3 10 \n",
      "            by log_reg, score = 0.5182258294878043\n",
      "done for set 0.5 3 10\n",
      "            by lin_reg, score = 0.0\n",
      "done for set 0.5 3 20 \n",
      "            by log_reg, score = 0.4881364064077247\n",
      "done for set 0.5 3 20\n",
      "            by lin_reg, score = 0.0\n",
      "done for set 0.5 3 50 \n",
      "            by log_reg, score = 0.515038476595924\n",
      "done for set 0.5 3 50\n",
      "            by lin_reg, score = 0.0\n",
      "done for set 0.5 3 100 \n",
      "            by log_reg, score = 0.5343246541296289\n",
      "done for set 0.5 3 100\n",
      "            by lin_reg, score = 0.0\n",
      "done for set 0.5 10 10 \n",
      "            by log_reg, score = 0.4814425065540346\n",
      "done for set 0.5 10 10\n",
      "            by lin_reg, score = 0.0\n",
      "done for set 0.5 10 20 \n",
      "            by log_reg, score = 0.47437421264728236\n",
      "done for set 0.5 10 20\n",
      "            by lin_reg, score = 0.0\n",
      "done for set 0.5 10 50 \n",
      "            by log_reg, score = 0.4808025563042048\n",
      "done for set 0.5 10 50\n",
      "            by lin_reg, score = 0.0\n",
      "done for set 0.5 10 100 \n",
      "            by log_reg, score = 0.49566577392959793\n",
      "done for set 0.5 10 100\n",
      "            by lin_reg, score = 0.0\n",
      "done for set 0.5 25 10 \n",
      "            by log_reg, score = 0.4526743775644504\n",
      "done for set 0.5 25 10\n",
      "            by lin_reg, score = 0.0\n",
      "done for set 0.5 25 20 \n",
      "            by log_reg, score = 0.45371491860082164\n",
      "done for set 0.5 25 20\n",
      "            by lin_reg, score = 0.0\n",
      "done for set 0.5 25 50 \n",
      "            by log_reg, score = 0.45873093743929516\n",
      "done for set 0.5 25 50\n",
      "            by lin_reg, score = 0.0\n",
      "done for set 0.5 25 100 \n",
      "            by log_reg, score = 0.46931544280941867\n",
      "done for set 0.5 25 100\n",
      "            by lin_reg, score = 0.0\n",
      "done for set 0.5 50 10 \n",
      "            by log_reg, score = 0.4409210481921111\n",
      "done for set 0.5 50 10\n",
      "            by lin_reg, score = 0.0\n",
      "done for set 0.5 50 20 \n",
      "            by log_reg, score = 0.4451384501030377\n",
      "done for set 0.5 50 20\n",
      "            by lin_reg, score = 0.0\n",
      "done for set 0.5 50 50 \n",
      "            by log_reg, score = 0.44693876130105165\n",
      "done for set 0.5 50 50\n",
      "            by lin_reg, score = 0.0\n",
      "done for set 0.5 50 100 \n",
      "            by log_reg, score = 0.45810961786202337\n",
      "done for set 0.5 50 100\n",
      "            by lin_reg, score = 0.0\n"
     ]
    },
    {
     "name": "stderr",
     "output_type": "stream",
     "text": [
      "/home/alex/miniconda3/envs/sphere-py37/lib/python3.7/site-packages/ipykernel_launcher.py:96: RuntimeWarning: overflow encountered in multiply\n"
     ]
    },
    {
     "name": "stdout",
     "output_type": "stream",
     "text": [
      "done for set 1.0 0.1 10 \n",
      "            by log_reg, score = 0.0\n",
      "done for set 1.0 0.1 10\n",
      "            by lin_reg, score = 0.0\n",
      "done for set 1.0 0.1 20 \n",
      "            by log_reg, score = 0.0\n",
      "done for set 1.0 0.1 20\n",
      "            by lin_reg, score = 0.0\n",
      "done for set 1.0 0.1 50 \n",
      "            by log_reg, score = 0.0\n",
      "done for set 1.0 0.1 50\n",
      "            by lin_reg, score = 0.0\n",
      "done for set 1.0 0.1 100 \n",
      "            by log_reg, score = 0.0\n",
      "done for set 1.0 0.1 100\n",
      "            by lin_reg, score = 0.0\n",
      "done for set 1.0 0.5 10 \n",
      "            by log_reg, score = 0.0\n",
      "done for set 1.0 0.5 10\n",
      "            by lin_reg, score = 0.0\n",
      "done for set 1.0 0.5 20 \n",
      "            by log_reg, score = 0.0\n",
      "done for set 1.0 0.5 20\n",
      "            by lin_reg, score = 0.0\n",
      "done for set 1.0 0.5 50 \n",
      "            by log_reg, score = 0.0\n",
      "done for set 1.0 0.5 50\n",
      "            by lin_reg, score = 0.0\n",
      "done for set 1.0 0.5 100 \n",
      "            by log_reg, score = 0.0\n",
      "done for set 1.0 0.5 100\n",
      "            by lin_reg, score = 0.0\n",
      "done for set 1.0 1 10 \n",
      "            by log_reg, score = 0.6153371161458842\n",
      "done for set 1.0 1 10\n",
      "            by lin_reg, score = 0.0\n",
      "done for set 1.0 1 20 \n",
      "            by log_reg, score = 0.614937173008249\n",
      "done for set 1.0 1 20\n",
      "            by lin_reg, score = 0.0\n",
      "done for set 1.0 1 50 \n",
      "            by log_reg, score = 0.6151635986162783\n",
      "done for set 1.0 1 50\n",
      "            by lin_reg, score = 0.0\n",
      "done for set 1.0 1 100 \n",
      "            by log_reg, score = 0.6151899402445601\n",
      "done for set 1.0 1 100\n",
      "            by lin_reg, score = 0.0\n",
      "done for set 1.0 3 10 \n",
      "            by log_reg, score = 0.40943262075541503\n",
      "done for set 1.0 3 10\n",
      "            by lin_reg, score = 0.0\n",
      "done for set 1.0 3 20 \n",
      "            by log_reg, score = 0.6146087051515633\n",
      "done for set 1.0 3 20\n",
      "            by lin_reg, score = 0.0\n",
      "done for set 1.0 3 50 \n",
      "            by log_reg, score = 0.40887590944409125\n",
      "done for set 1.0 3 50\n",
      "            by lin_reg, score = 0.0\n",
      "done for set 1.0 3 100 \n",
      "            by log_reg, score = 0.22244960630014618\n",
      "done for set 1.0 3 100\n",
      "            by lin_reg, score = 0.0\n",
      "done for set 1.0 10 10 \n",
      "            by log_reg, score = 0.4588250493815839\n",
      "done for set 1.0 10 10\n",
      "            by lin_reg, score = 0.0\n",
      "done for set 1.0 10 20 \n",
      "            by log_reg, score = 0.4044946809090533\n",
      "done for set 1.0 10 20\n",
      "            by lin_reg, score = 0.0\n",
      "done for set 1.0 10 50 \n",
      "            by log_reg, score = 0.5448532652128694\n",
      "done for set 1.0 10 50\n",
      "            by lin_reg, score = 0.0\n",
      "done for set 1.0 10 100 \n",
      "            by log_reg, score = 0.5680663236258373\n",
      "done for set 1.0 10 100\n",
      "            by lin_reg, score = 0.0\n",
      "done for set 1.0 25 10 \n",
      "            by log_reg, score = 0.47892076137964973\n",
      "done for set 1.0 25 10\n",
      "            by lin_reg, score = 0.0\n",
      "done for set 1.0 25 20 \n",
      "            by log_reg, score = 0.3391073506855032\n",
      "done for set 1.0 25 20\n",
      "            by lin_reg, score = 0.0\n",
      "done for set 1.0 25 50 \n",
      "            by log_reg, score = 0.508388922208121\n",
      "done for set 1.0 25 50\n",
      "            by lin_reg, score = 0.0\n",
      "done for set 1.0 25 100 \n",
      "            by log_reg, score = 0.4925818339034991\n",
      "done for set 1.0 25 100\n",
      "            by lin_reg, score = 0.0\n",
      "done for set 1.0 50 10 \n",
      "            by log_reg, score = 0.5032664215131772\n",
      "done for set 1.0 50 10\n",
      "            by lin_reg, score = 0.0\n",
      "done for set 1.0 50 20 \n",
      "            by log_reg, score = 0.3450085512523447\n",
      "done for set 1.0 50 20\n",
      "            by lin_reg, score = 0.0\n",
      "done for set 1.0 50 50 \n",
      "            by log_reg, score = 0.5135969650663456\n",
      "done for set 1.0 50 50\n",
      "            by lin_reg, score = 0.0\n",
      "done for set 1.0 50 100 \n",
      "            by log_reg, score = 0.4797790937321036\n",
      "done for set 1.0 50 100\n",
      "            by lin_reg, score = 0.0\n",
      "[0.15, 3, 100, 'lin_reg']\n",
      "0.6170795617254484\n"
     ]
    }
   ],
   "source": [
    "from sklearn.model_selection import KFold\n",
    "\n",
    "alpha_arr = [0.01, 0.05, 0.15, 0.25, 0.5, 1.0]\n",
    "C_arr = [0.1, 0.5, 1, 3, 10, 25, 50]\n",
    "epoch_arr = [10, 20, 50, 100]\n",
    "max_score = 0.0\n",
    "best = [0.01, 0.1, 10, 'log_reg']\n",
    "fold = KFold(n_splits=3, shuffle=True)\n",
    "\n",
    "for alpha in alpha_arr:\n",
    "    for C in C_arr:\n",
    "        for epoch in epoch_arr:\n",
    "            split = fold.split(X)\n",
    "            scores = []\n",
    "            clf = MySGDClassifier(batch_generator, C=C, \n",
    "                                  alpha=alpha, max_epoch=epoch,\n",
    "                                  model_type='log_reg', batch_size=100)\n",
    "            for index_train, index_test in split:\n",
    "                clf.fit(X[index_train], y_train[index_train])\n",
    "                scores.append(f1_score(y_train[index_test],\n",
    "                                       clf.predict(X[index_test])))\n",
    "            score = np.mean(np.array(scores))\n",
    "            if score > max_score:\n",
    "                best = [alpha, C, epoch, 'log_reg']\n",
    "                max_score = score\n",
    "            split = fold.split(X)\n",
    "            scores = []\n",
    "            clf = MySGDClassifier(batch_generator,\n",
    "                                  C=C, alpha=alpha,\n",
    "                                  max_epoch=epoch,\n",
    "                                  model_type='lin_reg', batch_size=100)\n",
    "            for index_train, index_test in split:\n",
    "                clf.fit(X[index_train], y_train[index_train])\n",
    "                scores.append(f1_score(y_train[index_test],\n",
    "                                       (clf.predict(X[index_test]) >= clf.border)\n",
    "                                       .astype(int)))\n",
    "            score = np.mean(np.array(scores))\n",
    "            if score > max_score:\n",
    "                best = [alpha, C, epoch, 'lin_reg']\n",
    "                max_score = score\n",
    "print(best)\n",
    "print(max_score)"
   ]
  },
  {
   "cell_type": "markdown",
   "metadata": {
    "collapsed": true
   },
   "source": [
    "Подберите порог линейной модели, по достижении которого, Вы будете относить объект к классу 1. Вспомните, какую метрику мы оптимизируем в соревновании.  Как тогда правильно подобрать порог?"
   ]
  },
  {
   "cell_type": "code",
   "execution_count": 178,
   "metadata": {},
   "outputs": [
    {
     "name": "stderr",
     "output_type": "stream",
     "text": [
      "/home/alex/miniconda3/envs/sphere-py37/lib/python3.7/site-packages/ipykernel_launcher.py:99: RuntimeWarning: overflow encountered in true_divide\n",
      "/home/alex/miniconda3/envs/sphere-py37/lib/python3.7/site-packages/ipykernel_launcher.py:93: RuntimeWarning: invalid value encountered in matmul\n",
      "/home/alex/miniconda3/envs/sphere-py37/lib/python3.7/site-packages/ipykernel_launcher.py:67: RuntimeWarning: invalid value encountered in matmul\n"
     ]
    },
    {
     "ename": "ValueError",
     "evalue": "Input contains NaN, infinity or a value too large for dtype('float64').",
     "output_type": "error",
     "traceback": [
      "\u001b[0;31m---------------------------------------------------------------------------\u001b[0m",
      "\u001b[0;31mValueError\u001b[0m                                Traceback (most recent call last)",
      "\u001b[0;32m<ipython-input-178-2e2ce3f8fe4f>\u001b[0m in \u001b[0;36m<module>\u001b[0;34m\u001b[0m\n\u001b[1;32m     15\u001b[0m         \u001b[0mclf\u001b[0m\u001b[0;34m.\u001b[0m\u001b[0mfit\u001b[0m\u001b[0;34m(\u001b[0m\u001b[0mX\u001b[0m\u001b[0;34m[\u001b[0m\u001b[0mindex_train\u001b[0m\u001b[0;34m]\u001b[0m\u001b[0;34m,\u001b[0m \u001b[0my_train\u001b[0m\u001b[0;34m[\u001b[0m\u001b[0mindex_train\u001b[0m\u001b[0;34m]\u001b[0m\u001b[0;34m)\u001b[0m\u001b[0;34m\u001b[0m\u001b[0;34m\u001b[0m\u001b[0m\n\u001b[1;32m     16\u001b[0m         scores.append(f1_score(y_train[index_test],\n\u001b[0;32m---> 17\u001b[0;31m                                clf.predict(X[index_test])))\n\u001b[0m\u001b[1;32m     18\u001b[0m     \u001b[0mscore\u001b[0m \u001b[0;34m=\u001b[0m \u001b[0mnp\u001b[0m\u001b[0;34m.\u001b[0m\u001b[0mmean\u001b[0m\u001b[0;34m(\u001b[0m\u001b[0mnp\u001b[0m\u001b[0;34m.\u001b[0m\u001b[0marray\u001b[0m\u001b[0;34m(\u001b[0m\u001b[0mscores\u001b[0m\u001b[0;34m)\u001b[0m\u001b[0;34m)\u001b[0m\u001b[0;34m\u001b[0m\u001b[0;34m\u001b[0m\u001b[0m\n\u001b[1;32m     19\u001b[0m     \u001b[0;32mif\u001b[0m \u001b[0mscore\u001b[0m \u001b[0;34m>\u001b[0m \u001b[0mmax_score\u001b[0m\u001b[0;34m:\u001b[0m\u001b[0;34m\u001b[0m\u001b[0;34m\u001b[0m\u001b[0m\n",
      "\u001b[0;32m~/miniconda3/envs/sphere-py37/lib/python3.7/site-packages/sklearn/metrics/classification.py\u001b[0m in \u001b[0;36mf1_score\u001b[0;34m(y_true, y_pred, labels, pos_label, average, sample_weight)\u001b[0m\n\u001b[1;32m   1057\u001b[0m     return fbeta_score(y_true, y_pred, 1, labels=labels,\n\u001b[1;32m   1058\u001b[0m                        \u001b[0mpos_label\u001b[0m\u001b[0;34m=\u001b[0m\u001b[0mpos_label\u001b[0m\u001b[0;34m,\u001b[0m \u001b[0maverage\u001b[0m\u001b[0;34m=\u001b[0m\u001b[0maverage\u001b[0m\u001b[0;34m,\u001b[0m\u001b[0;34m\u001b[0m\u001b[0;34m\u001b[0m\u001b[0m\n\u001b[0;32m-> 1059\u001b[0;31m                        sample_weight=sample_weight)\n\u001b[0m\u001b[1;32m   1060\u001b[0m \u001b[0;34m\u001b[0m\u001b[0m\n\u001b[1;32m   1061\u001b[0m \u001b[0;34m\u001b[0m\u001b[0m\n",
      "\u001b[0;32m~/miniconda3/envs/sphere-py37/lib/python3.7/site-packages/sklearn/metrics/classification.py\u001b[0m in \u001b[0;36mfbeta_score\u001b[0;34m(y_true, y_pred, beta, labels, pos_label, average, sample_weight)\u001b[0m\n\u001b[1;32m   1180\u001b[0m                                                  \u001b[0maverage\u001b[0m\u001b[0;34m=\u001b[0m\u001b[0maverage\u001b[0m\u001b[0;34m,\u001b[0m\u001b[0;34m\u001b[0m\u001b[0;34m\u001b[0m\u001b[0m\n\u001b[1;32m   1181\u001b[0m                                                  \u001b[0mwarn_for\u001b[0m\u001b[0;34m=\u001b[0m\u001b[0;34m(\u001b[0m\u001b[0;34m'f-score'\u001b[0m\u001b[0;34m,\u001b[0m\u001b[0;34m)\u001b[0m\u001b[0;34m,\u001b[0m\u001b[0;34m\u001b[0m\u001b[0;34m\u001b[0m\u001b[0m\n\u001b[0;32m-> 1182\u001b[0;31m                                                  sample_weight=sample_weight)\n\u001b[0m\u001b[1;32m   1183\u001b[0m     \u001b[0;32mreturn\u001b[0m \u001b[0mf\u001b[0m\u001b[0;34m\u001b[0m\u001b[0;34m\u001b[0m\u001b[0m\n\u001b[1;32m   1184\u001b[0m \u001b[0;34m\u001b[0m\u001b[0m\n",
      "\u001b[0;32m~/miniconda3/envs/sphere-py37/lib/python3.7/site-packages/sklearn/metrics/classification.py\u001b[0m in \u001b[0;36mprecision_recall_fscore_support\u001b[0;34m(y_true, y_pred, beta, labels, pos_label, average, warn_for, sample_weight)\u001b[0m\n\u001b[1;32m   1413\u001b[0m         \u001b[0;32mraise\u001b[0m \u001b[0mValueError\u001b[0m\u001b[0;34m(\u001b[0m\u001b[0;34m\"beta should be >0 in the F-beta score\"\u001b[0m\u001b[0;34m)\u001b[0m\u001b[0;34m\u001b[0m\u001b[0;34m\u001b[0m\u001b[0m\n\u001b[1;32m   1414\u001b[0m     labels = _check_set_wise_labels(y_true, y_pred, average, labels,\n\u001b[0;32m-> 1415\u001b[0;31m                                     pos_label)\n\u001b[0m\u001b[1;32m   1416\u001b[0m \u001b[0;34m\u001b[0m\u001b[0m\n\u001b[1;32m   1417\u001b[0m     \u001b[0;31m# Calculate tp_sum, pred_sum, true_sum ###\u001b[0m\u001b[0;34m\u001b[0m\u001b[0;34m\u001b[0m\u001b[0;34m\u001b[0m\u001b[0m\n",
      "\u001b[0;32m~/miniconda3/envs/sphere-py37/lib/python3.7/site-packages/sklearn/metrics/classification.py\u001b[0m in \u001b[0;36m_check_set_wise_labels\u001b[0;34m(y_true, y_pred, average, labels, pos_label)\u001b[0m\n\u001b[1;32m   1237\u001b[0m                          str(average_options))\n\u001b[1;32m   1238\u001b[0m \u001b[0;34m\u001b[0m\u001b[0m\n\u001b[0;32m-> 1239\u001b[0;31m     \u001b[0my_type\u001b[0m\u001b[0;34m,\u001b[0m \u001b[0my_true\u001b[0m\u001b[0;34m,\u001b[0m \u001b[0my_pred\u001b[0m \u001b[0;34m=\u001b[0m \u001b[0m_check_targets\u001b[0m\u001b[0;34m(\u001b[0m\u001b[0my_true\u001b[0m\u001b[0;34m,\u001b[0m \u001b[0my_pred\u001b[0m\u001b[0;34m)\u001b[0m\u001b[0;34m\u001b[0m\u001b[0;34m\u001b[0m\u001b[0m\n\u001b[0m\u001b[1;32m   1240\u001b[0m     \u001b[0mpresent_labels\u001b[0m \u001b[0;34m=\u001b[0m \u001b[0munique_labels\u001b[0m\u001b[0;34m(\u001b[0m\u001b[0my_true\u001b[0m\u001b[0;34m,\u001b[0m \u001b[0my_pred\u001b[0m\u001b[0;34m)\u001b[0m\u001b[0;34m\u001b[0m\u001b[0;34m\u001b[0m\u001b[0m\n\u001b[1;32m   1241\u001b[0m     \u001b[0;32mif\u001b[0m \u001b[0maverage\u001b[0m \u001b[0;34m==\u001b[0m \u001b[0;34m'binary'\u001b[0m\u001b[0;34m:\u001b[0m\u001b[0;34m\u001b[0m\u001b[0;34m\u001b[0m\u001b[0m\n",
      "\u001b[0;32m~/miniconda3/envs/sphere-py37/lib/python3.7/site-packages/sklearn/metrics/classification.py\u001b[0m in \u001b[0;36m_check_targets\u001b[0;34m(y_true, y_pred)\u001b[0m\n\u001b[1;32m     71\u001b[0m     \u001b[0mcheck_consistent_length\u001b[0m\u001b[0;34m(\u001b[0m\u001b[0my_true\u001b[0m\u001b[0;34m,\u001b[0m \u001b[0my_pred\u001b[0m\u001b[0;34m)\u001b[0m\u001b[0;34m\u001b[0m\u001b[0;34m\u001b[0m\u001b[0m\n\u001b[1;32m     72\u001b[0m     \u001b[0mtype_true\u001b[0m \u001b[0;34m=\u001b[0m \u001b[0mtype_of_target\u001b[0m\u001b[0;34m(\u001b[0m\u001b[0my_true\u001b[0m\u001b[0;34m)\u001b[0m\u001b[0;34m\u001b[0m\u001b[0;34m\u001b[0m\u001b[0m\n\u001b[0;32m---> 73\u001b[0;31m     \u001b[0mtype_pred\u001b[0m \u001b[0;34m=\u001b[0m \u001b[0mtype_of_target\u001b[0m\u001b[0;34m(\u001b[0m\u001b[0my_pred\u001b[0m\u001b[0;34m)\u001b[0m\u001b[0;34m\u001b[0m\u001b[0;34m\u001b[0m\u001b[0m\n\u001b[0m\u001b[1;32m     74\u001b[0m \u001b[0;34m\u001b[0m\u001b[0m\n\u001b[1;32m     75\u001b[0m     \u001b[0my_type\u001b[0m \u001b[0;34m=\u001b[0m \u001b[0;34m{\u001b[0m\u001b[0mtype_true\u001b[0m\u001b[0;34m,\u001b[0m \u001b[0mtype_pred\u001b[0m\u001b[0;34m}\u001b[0m\u001b[0;34m\u001b[0m\u001b[0;34m\u001b[0m\u001b[0m\n",
      "\u001b[0;32m~/miniconda3/envs/sphere-py37/lib/python3.7/site-packages/sklearn/utils/multiclass.py\u001b[0m in \u001b[0;36mtype_of_target\u001b[0;34m(y)\u001b[0m\n\u001b[1;32m    282\u001b[0m     \u001b[0;32mif\u001b[0m \u001b[0my\u001b[0m\u001b[0;34m.\u001b[0m\u001b[0mdtype\u001b[0m\u001b[0;34m.\u001b[0m\u001b[0mkind\u001b[0m \u001b[0;34m==\u001b[0m \u001b[0;34m'f'\u001b[0m \u001b[0;32mand\u001b[0m \u001b[0mnp\u001b[0m\u001b[0;34m.\u001b[0m\u001b[0many\u001b[0m\u001b[0;34m(\u001b[0m\u001b[0my\u001b[0m \u001b[0;34m!=\u001b[0m \u001b[0my\u001b[0m\u001b[0;34m.\u001b[0m\u001b[0mastype\u001b[0m\u001b[0;34m(\u001b[0m\u001b[0mint\u001b[0m\u001b[0;34m)\u001b[0m\u001b[0;34m)\u001b[0m\u001b[0;34m:\u001b[0m\u001b[0;34m\u001b[0m\u001b[0;34m\u001b[0m\u001b[0m\n\u001b[1;32m    283\u001b[0m         \u001b[0;31m# [.1, .2, 3] or [[.1, .2, 3]] or [[1., .2]] and not [1., 2., 3.]\u001b[0m\u001b[0;34m\u001b[0m\u001b[0;34m\u001b[0m\u001b[0;34m\u001b[0m\u001b[0m\n\u001b[0;32m--> 284\u001b[0;31m         \u001b[0m_assert_all_finite\u001b[0m\u001b[0;34m(\u001b[0m\u001b[0my\u001b[0m\u001b[0;34m)\u001b[0m\u001b[0;34m\u001b[0m\u001b[0;34m\u001b[0m\u001b[0m\n\u001b[0m\u001b[1;32m    285\u001b[0m         \u001b[0;32mreturn\u001b[0m \u001b[0;34m'continuous'\u001b[0m \u001b[0;34m+\u001b[0m \u001b[0msuffix\u001b[0m\u001b[0;34m\u001b[0m\u001b[0;34m\u001b[0m\u001b[0m\n\u001b[1;32m    286\u001b[0m \u001b[0;34m\u001b[0m\u001b[0m\n",
      "\u001b[0;32m~/miniconda3/envs/sphere-py37/lib/python3.7/site-packages/sklearn/utils/validation.py\u001b[0m in \u001b[0;36m_assert_all_finite\u001b[0;34m(X, allow_nan)\u001b[0m\n\u001b[1;32m     54\u001b[0m                 not allow_nan and not np.isfinite(X).all()):\n\u001b[1;32m     55\u001b[0m             \u001b[0mtype_err\u001b[0m \u001b[0;34m=\u001b[0m \u001b[0;34m'infinity'\u001b[0m \u001b[0;32mif\u001b[0m \u001b[0mallow_nan\u001b[0m \u001b[0;32melse\u001b[0m \u001b[0;34m'NaN, infinity'\u001b[0m\u001b[0;34m\u001b[0m\u001b[0;34m\u001b[0m\u001b[0m\n\u001b[0;32m---> 56\u001b[0;31m             \u001b[0;32mraise\u001b[0m \u001b[0mValueError\u001b[0m\u001b[0;34m(\u001b[0m\u001b[0mmsg_err\u001b[0m\u001b[0;34m.\u001b[0m\u001b[0mformat\u001b[0m\u001b[0;34m(\u001b[0m\u001b[0mtype_err\u001b[0m\u001b[0;34m,\u001b[0m \u001b[0mX\u001b[0m\u001b[0;34m.\u001b[0m\u001b[0mdtype\u001b[0m\u001b[0;34m)\u001b[0m\u001b[0;34m)\u001b[0m\u001b[0;34m\u001b[0m\u001b[0;34m\u001b[0m\u001b[0m\n\u001b[0m\u001b[1;32m     57\u001b[0m     \u001b[0;31m# for object dtype data, we only check for NaNs (GH-13254)\u001b[0m\u001b[0;34m\u001b[0m\u001b[0;34m\u001b[0m\u001b[0;34m\u001b[0m\u001b[0m\n\u001b[1;32m     58\u001b[0m     \u001b[0;32melif\u001b[0m \u001b[0mX\u001b[0m\u001b[0;34m.\u001b[0m\u001b[0mdtype\u001b[0m \u001b[0;34m==\u001b[0m \u001b[0mnp\u001b[0m\u001b[0;34m.\u001b[0m\u001b[0mdtype\u001b[0m\u001b[0;34m(\u001b[0m\u001b[0;34m'object'\u001b[0m\u001b[0;34m)\u001b[0m \u001b[0;32mand\u001b[0m \u001b[0;32mnot\u001b[0m \u001b[0mallow_nan\u001b[0m\u001b[0;34m:\u001b[0m\u001b[0;34m\u001b[0m\u001b[0;34m\u001b[0m\u001b[0m\n",
      "\u001b[0;31mValueError\u001b[0m: Input contains NaN, infinity or a value too large for dtype('float64')."
     ]
    }
   ],
   "source": [
    "border_arr = [0.1, 0.2, 0.3, 0.4, 0.5, 0.6, 0.7, 0.8, 0.9]\n",
    "C = best[0]\n",
    "alpha = best[1]\n",
    "max_epoch = best[2]\n",
    "model_type = best[3]\n",
    "max_score = 0.0\n",
    "best_border = 0.0\n",
    "for border in border_arr:\n",
    "    clf = MySGDClassifier(batch_generator, C=C, alpha=alpha, \n",
    "                           max_epoch=max_epoch, model_type=model_type, \n",
    "                           batch_size=100, border=border)       \n",
    "    split = fold.split(X)\n",
    "    scores = []\n",
    "    for index_train, index_test in split:\n",
    "        clf.fit(X[index_train], y_train[index_train])\n",
    "        scores.append(f1_score(y_train[index_test],\n",
    "                               clf.predict(X[index_test])))\n",
    "    score = np.mean(np.array(scores))\n",
    "    if score > max_score:\n",
    "        max_score = score\n",
    "        best_border = border\n",
    "    print('done for border {}, score = {}'.format(border, score))\n",
    "print(max_score)\n",
    "print(best_border)"
   ]
  },
  {
   "cell_type": "code",
   "execution_count": null,
   "metadata": {},
   "outputs": [],
   "source": [
    "import pandas as pd\n",
    "\n",
    "test = pd.read_csv('test_groups.csv')\n",
    "test_grps_title = {}\n",
    "for i in range(len(test)):\n",
    "    new_doc = test.iloc[i]\n",
    "    doc_id = new_doc['doc_id']\n",
    "    group = new_doc['group_id']\n",
    "    title = doc_to_title[doc_id]\n",
    "    if group not in test_grps_title:\n",
    "        test_grps_title[group] = []\n",
    "    test_grps_title[group].append((doc_id, title))\n",
    "\n",
    "X_test = []\n",
    "groups_test = []\n",
    "for new_group in test_grps_title:\n",
    "    test_docs = test_grps_title[new_group]\n",
    "    for doc_num, (doc_id, title) in enumerate(test_docs):\n",
    "        groups_test.append(new_group)\n",
    "        all_dist = []\n",
    "        words = set(title.strip().split())\n",
    "        for k in range(0, len(test_docs)):\n",
    "            if doc_num == k:\n",
    "                continue\n",
    "            cur_doc_id, cur_title = test_docs[doc_num]\n",
    "            cur_words = set(cur_title.strip().split())\n",
    "            all_dist.append(len(words.intersection(cur_words)))\n",
    "        X_test.append(sorted(all_dist, reverse=True)[0:15])\n",
    "X_test = np.array(X_test)\n",
    "groups_test = np.array(groups_test)\n",
    "print(X_test.shape, groups_test.shape)\n",
    "print(groups_test)"
   ]
  },
  {
   "cell_type": "markdown",
   "metadata": {},
   "source": [
    "С лучшими параметрами на валидации сделайте предсказание на тестовом множестве, отправьте его на проверку на платформу kaggle. Убедитесь, что Вы смогли побить public score первого бейзлайна."
   ]
  },
  {
   "cell_type": "markdown",
   "metadata": {
    "collapsed": true
   },
   "source": [
    "** При сдаче домашки Вам необходимо кроме ссылки на ноутбук прислать Ваш ник на kaggle, под которым Вы залили решение, которое побило первый бейзлайн. **"
   ]
  },
  {
   "cell_type": "code",
   "execution_count": null,
   "metadata": {},
   "outputs": [],
   "source": [
    "clf = MySGDClassifier(batch_generator, C=C, alpha=alpha, max_epoch=max_epoch,\n",
    "                      model_type=model_type, batch_size=100, \n",
    "                      border=border).fit(X, y_train)\n",
    "\n",
    "scaler = StandardScaler()\n",
    "X_test = scaler.fit_transform(X_test)\n",
    "print(X_test.shape)\n",
    "\n",
    "y = clf.predict(X_test)\n",
    "uniq, counts = np.unique(y, return_counts=True)\n",
    "print(counts)\n",
    "r = range(11691, 28318)\n",
    "print(len(r))\n",
    "data = {'pair_id' : range(11691, 28318), 'target': y}\n",
    "res = pd.DataFrame(data)\n",
    "res.to_csv('sec_pred.csv', index=False)\n",
    "\n",
    "data = {'pair_id' : range(11691, 28318), 'target': y}\n",
    "res = pd.DataFrame(data)\n",
    "res.to_csv('sec_pred.csv', index=False)"
   ]
  },
  {
   "cell_type": "markdown",
   "metadata": {},
   "source": [
    "# Фидбек (бесценно)"
   ]
  },
  {
   "cell_type": "markdown",
   "metadata": {},
   "source": [
    "* Какие аспекты обучения линейных моделей Вам показались непонятными? Какое место стоит дополнительно объяснить?"
   ]
  },
  {
   "cell_type": "markdown",
   "metadata": {},
   "source": [
    "***Ваше ответ здесь***"
   ]
  },
  {
   "cell_type": "markdown",
   "metadata": {},
   "source": [
    "* Здесь Вы можете оставить отзыв о этой домашней работе или о всем курсе.   "
   ]
  },
  {
   "cell_type": "markdown",
   "metadata": {},
   "source": [
    "*** ВАШ ОТЗЫВ ЗДЕСЬ***"
   ]
  },
  {
   "cell_type": "code",
   "execution_count": null,
   "metadata": {
    "collapsed": true
   },
   "outputs": [],
   "source": []
  },
  {
   "cell_type": "code",
   "execution_count": null,
   "metadata": {
    "collapsed": true
   },
   "outputs": [],
   "source": []
  }
 ],
 "metadata": {
  "anaconda-cloud": {},
  "kernelspec": {
   "display_name": "Python 3",
   "language": "python",
   "name": "python3"
  },
  "language_info": {
   "codemirror_mode": {
    "name": "ipython",
    "version": 3
   },
   "file_extension": ".py",
   "mimetype": "text/x-python",
   "name": "python",
   "nbconvert_exporter": "python",
   "pygments_lexer": "ipython3",
   "version": "3.7.4"
  },
  "nav_menu": {},
  "toc": {
   "colors": {
    "hover_highlight": "#DAA520",
    "navigate_num": "#000000",
    "navigate_text": "#333333",
    "running_highlight": "#FF0000",
    "selected_highlight": "#FFD700",
    "sidebar_border": "#EEEEEE",
    "wrapper_background": "#FFFFFF"
   },
   "moveMenuLeft": true,
   "nav_menu": {
    "height": "402px",
    "width": "253px"
   },
   "navigate_menu": true,
   "number_sections": false,
   "sideBar": true,
   "threshold": 4,
   "toc_cell": false,
   "toc_section_display": "block",
   "toc_window_display": true,
   "widenNotebook": false
  }
 },
 "nbformat": 4,
 "nbformat_minor": 2
}
